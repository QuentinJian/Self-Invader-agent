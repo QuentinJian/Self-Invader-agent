{
 "cells": [
  {
   "cell_type": "code",
   "execution_count": 1,
   "metadata": {},
   "outputs": [],
   "source": [
    "import os\n",
    "import matplotlib.pyplot as plt\n",
    "import numpy as np\n",
    "import tensorflow as tf\n",
    "import keras\n",
    "\n",
    "IMAGE_PATH = os.path.abspath(os.getcwd())\n",
    "def save_fig(fig_id, tight_layout=True, fig_extension=\"png\", resolution=300):\n",
    "    path = os.path.join(os.path.abspath(os.getcwd()), fig_id + \".\" + fig_extension)\n",
    "    print(\"Saving figure\", fig_id)\n",
    "    if tight_layout:\n",
    "        plt.tight_layout()\n",
    "    plt.savefig(path, format=fig_extension, dpi=resolution)\n"
   ]
  },
  {
   "cell_type": "code",
   "execution_count": 2,
   "metadata": {},
   "outputs": [
    {
     "data": {
      "text/plain": [
       "[PhysicalDevice(name='/physical_device:GPU:0', device_type='GPU')]"
      ]
     },
     "execution_count": 2,
     "metadata": {},
     "output_type": "execute_result"
    }
   ],
   "source": [
    "tf.config.list_physical_devices('GPU')"
   ]
  },
  {
   "cell_type": "code",
   "execution_count": 3,
   "metadata": {},
   "outputs": [
    {
     "name": "stderr",
     "output_type": "stream",
     "text": [
      "c:\\Users\\clare\\anaconda3\\envs\\late-tf-env\\lib\\site-packages\\gym\\utils\\seeding.py:138: DeprecationWarning: \u001b[33mWARN: Function `hash_seed(seed, max_bytes)` is marked as deprecated and will be removed in the future. \u001b[0m\n",
      "  deprecation(\n",
      "c:\\Users\\clare\\anaconda3\\envs\\late-tf-env\\lib\\site-packages\\gym\\utils\\seeding.py:175: DeprecationWarning: \u001b[33mWARN: Function `_bigint_from_bytes(bytes)` is marked as deprecated and will be removed in the future. \u001b[0m\n",
      "  deprecation(\n"
     ]
    },
    {
     "data": {
      "text/plain": [
       "<tf_agents.environments.wrappers.TimeLimit at 0x17dcceca6a0>"
      ]
     },
     "execution_count": 3,
     "metadata": {},
     "output_type": "execute_result"
    }
   ],
   "source": [
    "from tf_agents.environments import suite_gym\n",
    "\n",
    "env = suite_gym.load(\"ALE/Breakout-v5\")\n",
    "env"
   ]
  },
  {
   "cell_type": "code",
   "execution_count": 4,
   "metadata": {},
   "outputs": [
    {
     "name": "stdout",
     "output_type": "stream",
     "text": [
      "None\n",
      "BoundedArraySpec(shape=(), dtype=dtype('int64'), name='action', minimum=0, maximum=3)\n",
      "['NOOP', 'FIRE', 'RIGHT', 'LEFT']\n"
     ]
    }
   ],
   "source": [
    "print(env.get_info())\n",
    "print(env.action_spec())\n",
    "print(env.gym.get_action_meanings())"
   ]
  },
  {
   "cell_type": "code",
   "execution_count": 5,
   "metadata": {},
   "outputs": [
    {
     "name": "stdout",
     "output_type": "stream",
     "text": [
      "Saving figure breakout-plot\n"
     ]
    },
    {
     "data": {
      "image/png": "[encoded data removed]",
      "text/plain": [
       "<Figure size 432x576 with 1 Axes>"
      ]
     },
     "metadata": {
      "needs_background": "light"
     },
     "output_type": "display_data"
    }
   ],
   "source": [
    "img = env.render(mode=\"rgb_array\")\n",
    "\n",
    "plt.figure(figsize=(6, 8))\n",
    "plt.imshow(img)\n",
    "plt.axis(\"off\")\n",
    "save_fig(\"breakout-plot\")\n",
    "plt.show()"
   ]
  },
  {
   "cell_type": "code",
   "execution_count": 11,
   "metadata": {},
   "outputs": [],
   "source": [
    "from tf_agents.environments.wrappers import ActionRepeat\n",
    "from gym.wrappers import TimeLimit\n",
    "from tf_agents.environments.atari_preprocessing import AtariPreprocessing\n",
    "from tf_agents.environments.atari_wrappers import FrameStack4\n",
    "\n",
    "class AtariPreprocessingWithSkipStart(AtariPreprocessing):\n",
    "    def skip_frames(self, num_skip):\n",
    "        for _ in range(num_skip):\n",
    "          super().step(0) # NOOP for num_skip steps\n",
    "    def reset(self, **kwargs):\n",
    "        obs = super().reset(**kwargs)\n",
    "        self.skip_frames(40)\n",
    "        return obs\n",
    "    def step(self, action):\n",
    "        lives_before_action = self.ale.lives()\n",
    "        obs, rewards, done, info = super().step(action)\n",
    "        if self.ale.lives() < lives_before_action and not done:\n",
    "            self.skip_frames(40)\n",
    "        return obs, rewards, done, info\n",
    "\n",
    "\n",
    "repeating_env = ActionRepeat(env, times=4)\n",
    "limited_repeating_env = suite_gym.load(\n",
    "    \"Breakout-v4\",\n",
    "    gym_env_wrappers=[lambda env: TimeLimit(env, max_episode_steps=10000)],\n",
    "    env_wrappers=[lambda env: ActionRepeat(env, times=4)]\n",
    ")\n",
    "env = suite_gym.load(\n",
    "    'Breakout-v4',\n",
    "    max_episode_steps=27000,\n",
    "    gym_env_wrappers=[AtariPreprocessingWithSkipStart, FrameStack4]\n",
    ")"
   ]
  },
  {
   "cell_type": "code",
   "execution_count": 12,
   "metadata": {},
   "outputs": [],
   "source": [
    "import numpy as np\n",
    "\n",
    "def draw_obs(obs): #Draw the Observation Screen\n",
    "    obs = obs.astype(np.float32)\n",
    "    img = obs[..., :3]\n",
    "    current_frame_delta = np.maximum(obs[..., 3] - obs[..., :3].mean(axis=-1), 0.)\n",
    "    img[..., 0] += current_frame_delta\n",
    "    img[..., 2] += current_frame_delta\n",
    "    img = np.clip(img / 150, 0, 1)\n",
    "    plt.imshow(img)\n",
    "    plt.axis(\"off\")\n"
   ]
  },
  {
   "cell_type": "code",
   "execution_count": 13,
   "metadata": {},
   "outputs": [
    {
     "data": {
      "image/png": "[encoded data removed]",
      "text/plain": [
       "<Figure size 432x288 with 1 Axes>"
      ]
     },
     "metadata": {
      "needs_background": "light"
     },
     "output_type": "display_data"
    }
   ],
   "source": [
    "env.seed(32)\n",
    "\n",
    "env.reset()\n",
    "for _ in range(4): #Test control and get the trajectory\n",
    "    time_step = env.step(3)\n",
    "\n",
    "draw_obs(time_step.observation)\n",
    "# save_fig('processed_invadar_game_pic')\n",
    "plt.show()"
   ]
  },
  {
   "cell_type": "code",
   "execution_count": 14,
   "metadata": {},
   "outputs": [],
   "source": [
    "from tf_agents.environments import TFPyEnvironment\n",
    "import keras\n",
    "import tensorflow as tf\n",
    "from tf_agents.networks.q_network import QNetwork\n",
    "\n",
    "tf_env = TFPyEnvironment(env)\n",
    "\n",
    "preprocessing_layer = keras.layers.Lambda(lambda obs: tf.cast(obs, np.float32) / 255.) #Default layer design from book\n",
    "fc_layer_params = [512]\n",
    "conv_layer_params = [(32, (8, 8), 4), (64, (4, 4), 2), (64, (3, 3), 1)]\n",
    "q_net = QNetwork(\n",
    "    tf_env.observation_spec(),\n",
    "    tf_env.action_spec(),\n",
    "    preprocessing_layers=preprocessing_layer,\n",
    "    conv_layer_params=conv_layer_params,\n",
    "    fc_layer_params=fc_layer_params\n",
    ")\n"
   ]
  },
  {
   "cell_type": "code",
   "execution_count": 15,
   "metadata": {},
   "outputs": [],
   "source": [
    "from tf_agents.agents.dqn.dqn_agent import DqnAgent\n",
    "\n",
    "train_steps = tf.Variable(0)\n",
    "update_period = 4\n",
    "optimizer = tf.keras.optimizers.RMSprop(learning_rate=2.5e-4, rho=0.95, momentum=0.0)\n",
    "epsilon_fn = tf.keras.optimizers.schedules.PolynomialDecay(\n",
    "    initial_learning_rate=0.1,\n",
    "    decay_steps=250000 // update_period,\n",
    "    end_learning_rate=0.01)\n",
    "agent = DqnAgent(\n",
    "    time_step_spec=tf_env.time_step_spec(),\n",
    "    action_spec=tf_env.action_spec(),\n",
    "    q_network=q_net,\n",
    "    optimizer=optimizer,\n",
    "    target_update_period=2000,\n",
    "    td_errors_loss_fn=keras.losses.Huber(reduction=\"none\"),\n",
    "    gamma=0.99,\n",
    "    train_step_counter=train_steps,\n",
    "    epsilon_greedy=lambda:epsilon_fn(train_steps)\n",
    ")\n",
    "agent.initialize()"
   ]
  },
  {
   "cell_type": "code",
   "execution_count": 16,
   "metadata": {},
   "outputs": [
    {
     "data": {
      "text/plain": [
       "<tf_agents.agents.dqn.dqn_agent.DqnAgent at 0x17dcceb7430>"
      ]
     },
     "execution_count": 16,
     "metadata": {},
     "output_type": "execute_result"
    }
   ],
   "source": [
    "agent"
   ]
  },
  {
   "cell_type": "code",
   "execution_count": 17,
   "metadata": {},
   "outputs": [],
   "source": [
    "from tf_agents.replay_buffers import tf_uniform_replay_buffer\n",
    "from tf_agents.replay_buffers.py_hashed_replay_buffer import PyHashedReplayBuffer\n",
    "\n",
    "replay_buffer = tf_uniform_replay_buffer.TFUniformReplayBuffer(\n",
    "    data_spec=agent.collect_data_spec,\n",
    "    batch_size=tf_env.batch_size,\n",
    "    max_length=500000\n",
    ")\n",
    "\n",
    "replay_buffer_observer = replay_buffer.add_batch"
   ]
  },
  {
   "cell_type": "code",
   "execution_count": 18,
   "metadata": {},
   "outputs": [],
   "source": [
    "class ShowProgress():\n",
    "    def __init__(self, total):\n",
    "        self.counter = 0\n",
    "        self.total = total\n",
    "    def __call__(self, trajectory):\n",
    "        if not trajectory.is_boundary():\n",
    "            self.counter += 1\n",
    "        if self.counter % 100 == 0:\n",
    "            print(\"\\r{}/{}\".format(self.counter, self.total), end=\"\")"
   ]
  },
  {
   "cell_type": "code",
   "execution_count": 19,
   "metadata": {},
   "outputs": [],
   "source": [
    "from tf_agents.metrics import tf_metrics\n",
    "\n",
    "train_metrics = [\n",
    "    tf_metrics.NumberOfEpisodes(),\n",
    "    tf_metrics.EnvironmentSteps(),\n",
    "    tf_metrics.AverageReturnMetric(),\n",
    "    tf_metrics.AverageEpisodeLengthMetric()\n",
    "]"
   ]
  },
  {
   "cell_type": "code",
   "execution_count": 20,
   "metadata": {},
   "outputs": [
    {
     "name": "stderr",
     "output_type": "stream",
     "text": [
      "INFO:absl: \n",
      "\t\t NumberOfEpisodes = 0\n",
      "\t\t EnvironmentSteps = 0\n",
      "\t\t AverageReturn = 0.0\n",
      "\t\t AverageEpisodeLength = 0.0\n"
     ]
    }
   ],
   "source": [
    "from tf_agents.eval.metric_utils import log_metrics\n",
    "import logging\n",
    "\n",
    "logging.getLogger().setLevel(logging.INFO)\n",
    "log_metrics(train_metrics)"
   ]
  },
  {
   "cell_type": "code",
   "execution_count": 23,
   "metadata": {},
   "outputs": [],
   "source": [
    "from tf_agents.drivers.dynamic_step_driver import DynamicStepDriver\n",
    "\n",
    "collect_driver = DynamicStepDriver(\n",
    "    tf_env,\n",
    "    agent.collect_policy,\n",
    "    observers=[replay_buffer_observer] + train_metrics,\n",
    "    num_steps=update_period\n",
    ")"
   ]
  },
  {
   "cell_type": "code",
   "execution_count": 24,
   "metadata": {},
   "outputs": [
    {
     "data": {
      "text/plain": [
       "<tf_agents.drivers.dynamic_step_driver.DynamicStepDriver at 0x17dda76fe20>"
      ]
     },
     "execution_count": 24,
     "metadata": {},
     "output_type": "execute_result"
    }
   ],
   "source": [
    "collect_driver"
   ]
  },
  {
   "cell_type": "code",
   "execution_count": 25,
   "metadata": {},
   "outputs": [
    {
     "name": "stdout",
     "output_type": "stream",
     "text": [
      "20000/20000"
     ]
    }
   ],
   "source": [
    "from tf_agents.policies.random_tf_policy import RandomTFPolicy\n",
    "\n",
    "initial_collect_policy = RandomTFPolicy(tf_env.time_step_spec(), tf_env.action_spec())\n",
    "\n",
    "init_driver = DynamicStepDriver(\n",
    "    tf_env,\n",
    "    initial_collect_policy,\n",
    "    observers=[replay_buffer.add_batch, ShowProgress(20000)],\n",
    "    num_steps=20000\n",
    ")\n",
    "final_time_step, final_policy_state = init_driver.run()"
   ]
  },
  {
   "cell_type": "code",
   "execution_count": 19,
   "metadata": {},
   "outputs": [
    {
     "name": "stdout",
     "output_type": "stream",
     "text": [
      "WARNING:tensorflow:From C:\\Users\\clare\\AppData\\Local\\Temp\\ipykernel_26064\\3870975158.py:1: ReplayBuffer.get_next (from tf_agents.replay_buffers.replay_buffer) is deprecated and will be removed in a future version.\n",
      "Instructions for updating:\n",
      "Use `as_dataset(..., single_deterministic_pass=False) instead.\n"
     ]
    },
    {
     "name": "stderr",
     "output_type": "stream",
     "text": [
      "WARNING:tensorflow:From C:\\Users\\clare\\AppData\\Local\\Temp\\ipykernel_26064\\3870975158.py:1: ReplayBuffer.get_next (from tf_agents.replay_buffers.replay_buffer) is deprecated and will be removed in a future version.\n",
      "Instructions for updating:\n",
      "Use `as_dataset(..., single_deterministic_pass=False) instead.\n"
     ]
    },
    {
     "name": "stdout",
     "output_type": "stream",
     "text": [
      "Trajectory(\n",
      "{'action': <tf.Tensor: shape=(2, 3), dtype=int64, numpy=\n",
      "array([[5, 1, 0],\n",
      "       [0, 4, 5]], dtype=int64)>,\n",
      " 'discount': <tf.Tensor: shape=(2, 3), dtype=float32, numpy=\n",
      "array([[1., 1., 1.],\n",
      "       [1., 1., 1.]], dtype=float32)>,\n",
      " 'next_step_type': <tf.Tensor: shape=(2, 3), dtype=int32, numpy=\n",
      "array([[1, 1, 1],\n",
      "       [1, 1, 1]])>,\n",
      " 'observation': <tf.Tensor: shape=(2, 3, 84, 84, 4), dtype=uint8, numpy=\n",
      "array([[[[[ 0,  0,  0,  0],\n",
      "          [ 0,  0,  0,  0],\n",
      "          [ 0,  0,  0,  0],\n",
      "          ...,\n",
      "          [ 0,  0,  0,  0],\n",
      "          [ 0,  0,  0,  0],\n",
      "          [ 0,  0,  0,  0]],\n",
      "\n",
      "         [[ 0,  0,  0,  0],\n",
      "          [ 0,  0,  0,  0],\n",
      "          [ 0,  0,  0,  0],\n",
      "          ...,\n",
      "          [ 0,  0,  0,  0],\n",
      "          [ 0,  0,  0,  0],\n",
      "          [ 0,  0,  0,  0]],\n",
      "\n",
      "         [[ 0,  0,  0,  0],\n",
      "          [ 0,  0,  0,  0],\n",
      "          [ 0,  0,  0,  0],\n",
      "          ...,\n",
      "          [ 0,  0,  0,  0],\n",
      "          [ 0,  0,  0,  0],\n",
      "          [ 0,  0,  0,  0]],\n",
      "\n",
      "         ...,\n",
      "\n",
      "         [[79, 79, 79, 79],\n",
      "          [79, 79, 79, 79],\n",
      "          [79, 79, 79, 79],\n",
      "          ...,\n",
      "          [79, 79, 79, 79],\n",
      "          [79, 79, 79, 79],\n",
      "          [79, 79, 79, 79]],\n",
      "\n",
      "         [[79, 79, 79, 79],\n",
      "          [79, 79, 79, 79],\n",
      "          [79, 79, 79, 79],\n",
      "          ...,\n",
      "          [79, 79, 79, 79],\n",
      "          [79, 79, 79, 79],\n",
      "          [79, 79, 79, 79]],\n",
      "\n",
      "         [[79, 79, 79, 79],\n",
      "          [79, 79, 79, 79],\n",
      "          [79, 79, 79, 79],\n",
      "          ...,\n",
      "          [79, 79, 79, 79],\n",
      "          [79, 79, 79, 79],\n",
      "          [79, 79, 79, 79]]],\n",
      "\n",
      "\n",
      "        [[[ 0,  0,  0,  0],\n",
      "          [ 0,  0,  0,  0],\n",
      "          [ 0,  0,  0,  0],\n",
      "          ...,\n",
      "          [ 0,  0,  0,  0],\n",
      "          [ 0,  0,  0,  0],\n",
      "          [ 0,  0,  0,  0]],\n",
      "\n",
      "         [[ 0,  0,  0,  0],\n",
      "          [ 0,  0,  0,  0],\n",
      "          [ 0,  0,  0,  0],\n",
      "          ...,\n",
      "          [ 0,  0,  0,  0],\n",
      "          [ 0,  0,  0,  0],\n",
      "          [ 0,  0,  0,  0]],\n",
      "\n",
      "         [[ 0,  0,  0,  0],\n",
      "          [ 0,  0,  0,  0],\n",
      "          [ 0,  0,  0,  0],\n",
      "          ...,\n",
      "          [ 0,  0,  0,  0],\n",
      "          [ 0,  0,  0,  0],\n",
      "          [ 0,  0,  0,  0]],\n",
      "\n",
      "         ...,\n",
      "\n",
      "         [[79, 79, 79, 79],\n",
      "          [79, 79, 79, 79],\n",
      "          [79, 79, 79, 79],\n",
      "          ...,\n",
      "          [79, 79, 79, 79],\n",
      "          [79, 79, 79, 79],\n",
      "          [79, 79, 79, 79]],\n",
      "\n",
      "         [[79, 79, 79, 79],\n",
      "          [79, 79, 79, 79],\n",
      "          [79, 79, 79, 79],\n",
      "          ...,\n",
      "          [79, 79, 79, 79],\n",
      "          [79, 79, 79, 79],\n",
      "          [79, 79, 79, 79]],\n",
      "\n",
      "         [[79, 79, 79, 79],\n",
      "          [79, 79, 79, 79],\n",
      "          [79, 79, 79, 79],\n",
      "          ...,\n",
      "          [79, 79, 79, 79],\n",
      "          [79, 79, 79, 79],\n",
      "          [79, 79, 79, 79]]],\n",
      "\n",
      "\n",
      "        [[[ 0,  0,  0,  0],\n",
      "          [ 0,  0,  0,  0],\n",
      "          [ 0,  0,  0,  0],\n",
      "          ...,\n",
      "          [ 0,  0,  0,  0],\n",
      "          [ 0,  0,  0,  0],\n",
      "          [ 0,  0,  0,  0]],\n",
      "\n",
      "         [[ 0,  0,  0,  0],\n",
      "          [ 0,  0,  0,  0],\n",
      "          [ 0,  0,  0,  0],\n",
      "          ...,\n",
      "          [ 0,  0,  0,  0],\n",
      "          [ 0,  0,  0,  0],\n",
      "          [ 0,  0,  0,  0]],\n",
      "\n",
      "         [[ 0,  0,  0,  0],\n",
      "          [ 0,  0,  0,  0],\n",
      "          [ 0,  0,  0,  0],\n",
      "          ...,\n",
      "          [ 0,  0,  0,  0],\n",
      "          [ 0,  0,  0,  0],\n",
      "          [ 0,  0,  0,  0]],\n",
      "\n",
      "         ...,\n",
      "\n",
      "         [[79, 79, 79, 79],\n",
      "          [79, 79, 79, 79],\n",
      "          [79, 79, 79, 79],\n",
      "          ...,\n",
      "          [79, 79, 79, 79],\n",
      "          [79, 79, 79, 79],\n",
      "          [79, 79, 79, 79]],\n",
      "\n",
      "         [[79, 79, 79, 79],\n",
      "          [79, 79, 79, 79],\n",
      "          [79, 79, 79, 79],\n",
      "          ...,\n",
      "          [79, 79, 79, 79],\n",
      "          [79, 79, 79, 79],\n",
      "          [79, 79, 79, 79]],\n",
      "\n",
      "         [[79, 79, 79, 79],\n",
      "          [79, 79, 79, 79],\n",
      "          [79, 79, 79, 79],\n",
      "          ...,\n",
      "          [79, 79, 79, 79],\n",
      "          [79, 79, 79, 79],\n",
      "          [79, 79, 79, 79]]]],\n",
      "\n",
      "\n",
      "\n",
      "       [[[[ 0,  0,  0,  0],\n",
      "          [ 0,  0,  0,  0],\n",
      "          [ 0,  0,  0,  0],\n",
      "          ...,\n",
      "          [ 0,  0,  0,  0],\n",
      "          [ 0,  0,  0,  0],\n",
      "          [ 0,  0,  0,  0]],\n",
      "\n",
      "         [[ 0,  0,  0,  0],\n",
      "          [ 0,  0,  0,  0],\n",
      "          [ 0,  0,  0,  0],\n",
      "          ...,\n",
      "          [ 0,  0,  0,  0],\n",
      "          [ 0,  0,  0,  0],\n",
      "          [ 0,  0,  0,  0]],\n",
      "\n",
      "         [[ 0,  0,  0,  0],\n",
      "          [ 0,  0,  0,  0],\n",
      "          [ 0,  0,  0,  0],\n",
      "          ...,\n",
      "          [ 0,  0,  0,  0],\n",
      "          [ 0,  0,  0,  0],\n",
      "          [ 0,  0,  0,  0]],\n",
      "\n",
      "         ...,\n",
      "\n",
      "         [[79, 79, 79, 79],\n",
      "          [79, 79, 79, 79],\n",
      "          [79, 79, 79, 79],\n",
      "          ...,\n",
      "          [79, 79, 79, 79],\n",
      "          [79, 79, 79, 79],\n",
      "          [79, 79, 79, 79]],\n",
      "\n",
      "         [[79, 79, 79, 79],\n",
      "          [79, 79, 79, 79],\n",
      "          [79, 79, 79, 79],\n",
      "          ...,\n",
      "          [79, 79, 79, 79],\n",
      "          [79, 79, 79, 79],\n",
      "          [79, 79, 79, 79]],\n",
      "\n",
      "         [[79, 79, 79, 79],\n",
      "          [79, 79, 79, 79],\n",
      "          [79, 79, 79, 79],\n",
      "          ...,\n",
      "          [79, 79, 79, 79],\n",
      "          [79, 79, 79, 79],\n",
      "          [79, 79, 79, 79]]],\n",
      "\n",
      "\n",
      "        [[[ 0,  0,  0,  0],\n",
      "          [ 0,  0,  0,  0],\n",
      "          [ 0,  0,  0,  0],\n",
      "          ...,\n",
      "          [ 0,  0,  0,  0],\n",
      "          [ 0,  0,  0,  0],\n",
      "          [ 0,  0,  0,  0]],\n",
      "\n",
      "         [[ 0,  0,  0,  0],\n",
      "          [ 0,  0,  0,  0],\n",
      "          [ 0,  0,  0,  0],\n",
      "          ...,\n",
      "          [ 0,  0,  0,  0],\n",
      "          [ 0,  0,  0,  0],\n",
      "          [ 0,  0,  0,  0]],\n",
      "\n",
      "         [[ 0,  0,  0,  0],\n",
      "          [ 0,  0,  0,  0],\n",
      "          [ 0,  0,  0,  0],\n",
      "          ...,\n",
      "          [ 0,  0,  0,  0],\n",
      "          [ 0,  0,  0,  0],\n",
      "          [ 0,  0,  0,  0]],\n",
      "\n",
      "         ...,\n",
      "\n",
      "         [[79, 79, 79, 79],\n",
      "          [79, 79, 79, 79],\n",
      "          [79, 79, 79, 79],\n",
      "          ...,\n",
      "          [79, 79, 79, 79],\n",
      "          [79, 79, 79, 79],\n",
      "          [79, 79, 79, 79]],\n",
      "\n",
      "         [[79, 79, 79, 79],\n",
      "          [79, 79, 79, 79],\n",
      "          [79, 79, 79, 79],\n",
      "          ...,\n",
      "          [79, 79, 79, 79],\n",
      "          [79, 79, 79, 79],\n",
      "          [79, 79, 79, 79]],\n",
      "\n",
      "         [[79, 79, 79, 79],\n",
      "          [79, 79, 79, 79],\n",
      "          [79, 79, 79, 79],\n",
      "          ...,\n",
      "          [79, 79, 79, 79],\n",
      "          [79, 79, 79, 79],\n",
      "          [79, 79, 79, 79]]],\n",
      "\n",
      "\n",
      "        [[[ 0,  0,  0,  0],\n",
      "          [ 0,  0,  0,  0],\n",
      "          [ 0,  0,  0,  0],\n",
      "          ...,\n",
      "          [ 0,  0,  0,  0],\n",
      "          [ 0,  0,  0,  0],\n",
      "          [ 0,  0,  0,  0]],\n",
      "\n",
      "         [[ 0,  0,  0,  0],\n",
      "          [ 0,  0,  0,  0],\n",
      "          [ 0,  0,  0,  0],\n",
      "          ...,\n",
      "          [ 0,  0,  0,  0],\n",
      "          [ 0,  0,  0,  0],\n",
      "          [ 0,  0,  0,  0]],\n",
      "\n",
      "         [[ 0,  0,  0,  0],\n",
      "          [ 0,  0,  0,  0],\n",
      "          [ 0,  0,  0,  0],\n",
      "          ...,\n",
      "          [ 0,  0,  0,  0],\n",
      "          [ 0,  0,  0,  0],\n",
      "          [ 0,  0,  0,  0]],\n",
      "\n",
      "         ...,\n",
      "\n",
      "         [[79, 79, 79, 79],\n",
      "          [79, 79, 79, 79],\n",
      "          [79, 79, 79, 79],\n",
      "          ...,\n",
      "          [79, 79, 79, 79],\n",
      "          [79, 79, 79, 79],\n",
      "          [79, 79, 79, 79]],\n",
      "\n",
      "         [[79, 79, 79, 79],\n",
      "          [79, 79, 79, 79],\n",
      "          [79, 79, 79, 79],\n",
      "          ...,\n",
      "          [79, 79, 79, 79],\n",
      "          [79, 79, 79, 79],\n",
      "          [79, 79, 79, 79]],\n",
      "\n",
      "         [[79, 79, 79, 79],\n",
      "          [79, 79, 79, 79],\n",
      "          [79, 79, 79, 79],\n",
      "          ...,\n",
      "          [79, 79, 79, 79],\n",
      "          [79, 79, 79, 79],\n",
      "          [79, 79, 79, 79]]]]], dtype=uint8)>,\n",
      " 'policy_info': (),\n",
      " 'reward': <tf.Tensor: shape=(2, 3), dtype=float32, numpy=\n",
      "array([[0., 0., 5.],\n",
      "       [0., 0., 0.]], dtype=float32)>,\n",
      " 'step_type': <tf.Tensor: shape=(2, 3), dtype=int32, numpy=\n",
      "array([[1, 1, 1],\n",
      "       [1, 1, 1]])>})\n",
      "BufferInfo(ids=<tf.Tensor: shape=(2, 3), dtype=int64, numpy=\n",
      "array([[ 9878,  9879,  9880],\n",
      "       [12466, 12467, 12468]], dtype=int64)>, probabilities=<tf.Tensor: shape=(2,), dtype=float32, numpy=array([4.9419323e-05, 4.9419323e-05], dtype=float32)>)\n"
     ]
    }
   ],
   "source": [
    "trajectories, buffer_info = replay_buffer.get_next(sample_batch_size=2, num_steps=3)\n",
    "print(trajectories)\n",
    "print(buffer_info)"
   ]
  },
  {
   "cell_type": "code",
   "execution_count": 20,
   "metadata": {},
   "outputs": [
    {
     "name": "stdout",
     "output_type": "stream",
     "text": [
      "('step_type', 'observation', 'action', 'policy_info', 'next_step_type', 'reward', 'discount')\n"
     ]
    }
   ],
   "source": [
    "print(trajectories._fields)"
   ]
  },
  {
   "cell_type": "code",
   "execution_count": 21,
   "metadata": {},
   "outputs": [
    {
     "name": "stdout",
     "output_type": "stream",
     "text": [
      "Shape of 'observation':  (2, 3, 84, 84, 4)\n",
      "Shape of 'rewards':  (2, 3)\n",
      "[[1 1 1]\n",
      " [1 1 1]]\n"
     ]
    }
   ],
   "source": [
    "print('Shape of \\'observation\\': ', trajectories.observation.shape)\n",
    "print('Shape of \\'rewards\\': ', trajectories.reward.shape)\n",
    "print(trajectories.step_type.numpy())"
   ]
  },
  {
   "cell_type": "code",
   "execution_count": 21,
   "metadata": {},
   "outputs": [
    {
     "ename": "NameError",
     "evalue": "name 'trajectories' is not defined",
     "output_type": "error",
     "traceback": [
      "\u001b[1;31m---------------------------------------------------------------------------\u001b[0m",
      "\u001b[1;31mNameError\u001b[0m                                 Traceback (most recent call last)",
      "\u001b[1;32md:\\Workspace\\Python\\Self-Invader-agent\\invader-rl.ipynb Cell 22'\u001b[0m in \u001b[0;36m<cell line: 2>\u001b[1;34m()\u001b[0m\n\u001b[0;32m      <a href='vscode-notebook-cell:/d%3A/Workspace/Python/Self-Invader-agent/invader-rl.ipynb#ch0000021?line=2'>3</a>\u001b[0m     \u001b[39mfor\u001b[39;00m col \u001b[39min\u001b[39;00m \u001b[39mrange\u001b[39m(\u001b[39m3\u001b[39m):\n\u001b[0;32m      <a href='vscode-notebook-cell:/d%3A/Workspace/Python/Self-Invader-agent/invader-rl.ipynb#ch0000021?line=3'>4</a>\u001b[0m         plt\u001b[39m.\u001b[39msubplot(\u001b[39m2\u001b[39m, \u001b[39m3\u001b[39m, row\u001b[39m*\u001b[39m\u001b[39m3\u001b[39m \u001b[39m+\u001b[39m col\u001b[39m+\u001b[39m\u001b[39m1\u001b[39m)\n\u001b[1;32m----> <a href='vscode-notebook-cell:/d%3A/Workspace/Python/Self-Invader-agent/invader-rl.ipynb#ch0000021?line=4'>5</a>\u001b[0m         draw_obs(trajectories\u001b[39m.\u001b[39mobservation[row, col]\u001b[39m.\u001b[39mnumpy())\n\u001b[0;32m      <a href='vscode-notebook-cell:/d%3A/Workspace/Python/Self-Invader-agent/invader-rl.ipynb#ch0000021?line=5'>6</a>\u001b[0m plt\u001b[39m.\u001b[39msubplots_adjust(left\u001b[39m=\u001b[39m\u001b[39m0\u001b[39m, right\u001b[39m=\u001b[39m\u001b[39m1\u001b[39m, bottom\u001b[39m=\u001b[39m\u001b[39m0\u001b[39m, top\u001b[39m=\u001b[39m\u001b[39m1\u001b[39m, hspace\u001b[39m=\u001b[39m\u001b[39m0\u001b[39m, wspace\u001b[39m=\u001b[39m\u001b[39m0.02\u001b[39m)\n\u001b[0;32m      <a href='vscode-notebook-cell:/d%3A/Workspace/Python/Self-Invader-agent/invader-rl.ipynb#ch0000021?line=6'>7</a>\u001b[0m save_fig(\u001b[39m'\u001b[39m\u001b[39msub_episode_plot_breakout\u001b[39m\u001b[39m'\u001b[39m)\n",
      "\u001b[1;31mNameError\u001b[0m: name 'trajectories' is not defined"
     ]
    },
    {
     "data": {
      "image/png": "[encoded data removed]",
      "text/plain": [
       "<Figure size 1728x1152 with 1 Axes>"
      ]
     },
     "metadata": {
      "needs_background": "light"
     },
     "output_type": "display_data"
    }
   ],
   "source": [
    "plt.figure(figsize=(24, 16))\n",
    "for row in range(2):\n",
    "    for col in range(3):\n",
    "        plt.subplot(2, 3, row*3 + col+1)\n",
    "        draw_obs(trajectories.observation[row, col].numpy())\n",
    "plt.subplots_adjust(left=0, right=1, bottom=0, top=1, hspace=0, wspace=0.02)\n",
    "save_fig('sub_episode_plot_breakout')\n",
    "plt.show()"
   ]
  },
  {
   "cell_type": "markdown",
   "metadata": {},
   "source": [
    "簡單印出其中兩個 Trajectories"
   ]
  },
  {
   "cell_type": "code",
   "execution_count": 23,
   "metadata": {},
   "outputs": [],
   "source": [
    "dataset = replay_buffer.as_dataset(\n",
    "    sample_batch_size=64,\n",
    "    num_steps=2,\n",
    "    num_parallel_calls=2)"
   ]
  },
  {
   "cell_type": "code",
   "execution_count": 24,
   "metadata": {},
   "outputs": [],
   "source": [
    "from tf_agents.utils.common import function\n",
    "\n",
    "collect_driver.run = function(collect_driver.run)\n",
    "agent.train = function(agent.train)\n"
   ]
  },
  {
   "cell_type": "code",
   "execution_count": 27,
   "metadata": {},
   "outputs": [
    {
     "name": "stderr",
     "output_type": "stream",
     "text": [
      "WARNING:absl:WARNING: Could not serialize policy.distribution() for policy \"<tf_agents.policies.epsilon_greedy_policy.EpsilonGreedyPolicy object at 0x000001F2C5462D00>\". Calling saved_model.distribution() will raise the following assertion error: EpsilonGreedyPolicy does not support distributions yet.\n"
     ]
    }
   ],
   "source": [
    "from tf_agents.policies.policy_saver import PolicySaver\n",
    "\n",
    "saver = PolicySaver(agent.collect_policy, batch_size=None)\n",
    "\n",
    "returns = []\n",
    "\n",
    "def train_agent(n_iterations):\n",
    "    time_step = None\n",
    "    policy_state = agent.collect_policy.get_initial_state(tf_env.batch_size)\n",
    "    iterator = iter(dataset)\n",
    "    for iteration in range(n_iterations):\n",
    "        time_step, policy_state = collect_driver.run(time_step, policy_state)\n",
    "        trajectories, buffer_info = next(iterator)\n",
    "        train_loss = agent.train(trajectories)\n",
    "        print(\"\\r{} loss:{:.5f}\".format(iteration, train_loss.loss.numpy()), end=\"\")\n",
    "        if (iteration % 1000 == 0):\n",
    "            returns.append(train_metrics[2])\n",
    "            log_metrics(train_metrics)"
   ]
  },
  {
   "cell_type": "code",
   "execution_count": 28,
   "metadata": {},
   "outputs": [
    {
     "name": "stderr",
     "output_type": "stream",
     "text": [
      "c:\\Users\\clare\\anaconda3\\envs\\late-tf-env\\lib\\site-packages\\gym\\utils\\seeding.py:47: DeprecationWarning: \u001b[33mWARN: Function `rng.randint(low, [high, size, dtype])` is marked as deprecated and will be removed in the future. Please use `rng.integers(low, [high, size, dtype])` instead.\u001b[0m\n",
      "  deprecation(\n"
     ]
    },
    {
     "name": "stdout",
     "output_type": "stream",
     "text": [
      "49999 loss:2.70412"
     ]
    }
   ],
   "source": [
    "iterations = 50000\n",
    "train_agent(iterations)"
   ]
  },
  {
   "cell_type": "code",
   "execution_count": 29,
   "metadata": {},
   "outputs": [],
   "source": [
    "iteration = range(0, iterations + 1, 1000)\n",
    "plt.plot(iterations, returns)\n",
    "plt.ylabel('Average Return')\n",
    "plt.xlabel('Iterations')"
   ]
  },
  {
   "cell_type": "code",
   "execution_count": 30,
   "metadata": {},
   "outputs": [
    {
     "name": "stderr",
     "output_type": "stream",
     "text": [
      "c:\\Users\\clare\\anaconda3\\envs\\late-tf-env\\lib\\site-packages\\gym\\utils\\seeding.py:47: DeprecationWarning: \u001b[33mWARN: Function `rng.randint(low, [high, size, dtype])` is marked as deprecated and will be removed in the future. Please use `rng.integers(low, [high, size, dtype])` instead.\u001b[0m\n",
      "  deprecation(\n"
     ]
    },
    {
     "name": "stdout",
     "output_type": "stream",
     "text": [
      "1000/1000"
     ]
    }
   ],
   "source": [
    "from matplotlib import animation\n",
    "\n",
    "frames = []\n",
    "\n",
    "def update_scene(num, frames, patch):\n",
    "    patch.set_data(frames[num])\n",
    "    return patch,\n",
    "\n",
    "def plot_animation(frames, repeat=False, interval=40):\n",
    "    fig = plt.figure()\n",
    "    patch = plt.imshow(frames[0])\n",
    "    plt.axis('off')\n",
    "    anim = animation.FuncAnimation(\n",
    "        fig, update_scene, fargs=(frames, patch),\n",
    "        frames=len(frames), repeat=repeat, interval=interval)\n",
    "    plt.close()\n",
    "    return anim\n",
    "\n",
    "def save_frames(trajectory):\n",
    "    global frames\n",
    "    frames.append(tf_env.pyenv.envs[0].render(mode=\"rgb_array\"))\n",
    "\n",
    "watch_driver = DynamicStepDriver(\n",
    "    tf_env,\n",
    "    agent.policy,\n",
    "    observers=[save_frames, ShowProgress(1000)],\n",
    "    num_steps=1000)\n",
    "final_time_step, final_policy_state = watch_driver.run()\n"
   ]
  },
  {
   "cell_type": "code",
   "execution_count": 32,
   "metadata": {},
   "outputs": [],
   "source": [
    "import PIL\n",
    "import os\n",
    "\n",
    "frame_images = [PIL.Image.fromarray(frame) for frame in frames[:1000]]\n",
    "image_path = os.path.join(\"pictures\", \"invader.gif\")\n",
    "frame_images[0].save(image_path,format='GIF',\n",
    "                     append_images=frame_images[1:],\n",
    "                     save_all=True,\n",
    "                     duration=60,\n",
    "                     loop=0)"
   ]
  },
  {
   "cell_type": "code",
   "execution_count": null,
   "metadata": {},
   "outputs": [],
   "source": [
    "from tf_agents.utils import common\n",
    "\n",
    "global_step = tf.compat.v1.train.get_global_step()\n",
    "tempdir = 'D:/Workspace/Python/Self-Invader-agent'\n",
    "checkpoint_dir = os.path.join(tempdir, 'checkpoint')\n",
    "train_checkpointer = common.Checkpointer(\n",
    "    ckpt_dir=checkpoint_dir,\n",
    "    max_to_keep=1,\n",
    "    agent=agent,\n",
    "    policy=agent.policy,\n",
    "    replay_buffer=replay_buffer,\n",
    ")"
   ]
  },
  {
   "cell_type": "code",
   "execution_count": null,
   "metadata": {},
   "outputs": [],
   "source": [
    "from tf_agents.policies import policy_saver\n",
    "policy_dir = os.path.join(tempdir, 'policy')\n",
    "tf_policy_saver = policy_saver.PolicySaver(agent.policy)"
   ]
  },
  {
   "cell_type": "code",
   "execution_count": null,
   "metadata": {},
   "outputs": [
    {
     "name": "stderr",
     "output_type": "stream",
     "text": [
      "c:\\Users\\clare\\anaconda3\\envs\\late-tf-env\\lib\\site-packages\\gym\\utils\\seeding.py:47: DeprecationWarning: \u001b[33mWARN: Function `rng.randint(low, [high, size, dtype])` is marked as deprecated and will be removed in the future. Please use `rng.integers(low, [high, size, dtype])` instead.\u001b[0m\n",
      "  deprecation(\n",
      "WARNING:absl:Function `function_with_signature` contains input name(s) 0/step_type, 0/reward, 0/discount, 0/observation with unsupported characters which will be renamed to step_type, reward, discount, observation in the SavedModel.\n"
     ]
    },
    {
     "name": "stdout",
     "output_type": "stream",
     "text": [
      "Training one iteration....\n",
      "0 loss:4.64615"
     ]
    },
    {
     "name": "stderr",
     "output_type": "stream",
     "text": [
      "WARNING:absl:Found untraced functions such as QNetwork_layer_call_fn, QNetwork_layer_call_and_return_conditional_losses, EncodingNetwork_layer_call_fn, EncodingNetwork_layer_call_and_return_conditional_losses, dense_1_layer_call_fn while saving (showing 5 of 18). These functions will not be directly callable after loading.\n"
     ]
    },
    {
     "ename": "AssertionError",
     "evalue": "Tried to export a function which references 'untracked' resource Tensor(\"1882461:0\", shape=(), dtype=resource). TensorFlow objects (e.g. tf.Variable) captured by functions must be 'tracked' by assigning them to an attribute of a tracked object or assigned to an attribute of the main object directly.\n\n Trackable Python objects referring to this tensor (from gc.get_referrers, limited to two hops):\n<tf.Variable 'Variable:0' shape=() dtype=int32>",
     "output_type": "error",
     "traceback": [
      "\u001b[1;31m---------------------------------------------------------------------------\u001b[0m",
      "\u001b[1;31mAssertionError\u001b[0m                            Traceback (most recent call last)",
      "\u001b[1;32md:\\Workspace\\Python\\Self-Invader-agent\\invader-rl.ipynb Cell 34'\u001b[0m in \u001b[0;36m<cell line: 2>\u001b[1;34m()\u001b[0m\n\u001b[0;32m      <a href='vscode-notebook-cell:/d%3A/Workspace/Python/Self-Invader-agent/invader-rl.ipynb#ch0000037?line=0'>1</a>\u001b[0m \u001b[39mprint\u001b[39m(\u001b[39m'\u001b[39m\u001b[39mTraining one iteration....\u001b[39m\u001b[39m'\u001b[39m)\n\u001b[1;32m----> <a href='vscode-notebook-cell:/d%3A/Workspace/Python/Self-Invader-agent/invader-rl.ipynb#ch0000037?line=1'>2</a>\u001b[0m train_agent(\u001b[39m1\u001b[39;49m)\n",
      "\u001b[1;32md:\\Workspace\\Python\\Self-Invader-agent\\invader-rl.ipynb Cell 26'\u001b[0m in \u001b[0;36mtrain_agent\u001b[1;34m(n_iterations)\u001b[0m\n\u001b[0;32m     <a href='vscode-notebook-cell:/d%3A/Workspace/Python/Self-Invader-agent/invader-rl.ipynb#ch0000026?line=12'>13</a>\u001b[0m \u001b[39mprint\u001b[39m(\u001b[39m\"\u001b[39m\u001b[39m\\r\u001b[39;00m\u001b[39m{}\u001b[39;00m\u001b[39m loss:\u001b[39m\u001b[39m{:.5f}\u001b[39;00m\u001b[39m\"\u001b[39m\u001b[39m.\u001b[39mformat(iteration, train_loss\u001b[39m.\u001b[39mloss\u001b[39m.\u001b[39mnumpy()), end\u001b[39m=\u001b[39m\u001b[39m\"\u001b[39m\u001b[39m\"\u001b[39m)\n\u001b[0;32m     <a href='vscode-notebook-cell:/d%3A/Workspace/Python/Self-Invader-agent/invader-rl.ipynb#ch0000026?line=13'>14</a>\u001b[0m \u001b[39mif\u001b[39;00m (iteration \u001b[39m%\u001b[39m \u001b[39m1000\u001b[39m \u001b[39m==\u001b[39m \u001b[39m0\u001b[39m):\n\u001b[1;32m---> <a href='vscode-notebook-cell:/d%3A/Workspace/Python/Self-Invader-agent/invader-rl.ipynb#ch0000026?line=14'>15</a>\u001b[0m     saver\u001b[39m.\u001b[39;49msave(\u001b[39m'\u001b[39;49m\u001b[39mpolicy_\u001b[39;49m\u001b[39m%d\u001b[39;49;00m\u001b[39m'\u001b[39;49m \u001b[39m%\u001b[39;49m iteration)\n\u001b[0;32m     <a href='vscode-notebook-cell:/d%3A/Workspace/Python/Self-Invader-agent/invader-rl.ipynb#ch0000026?line=15'>16</a>\u001b[0m     log_metrics(train_metrics)\n",
      "File \u001b[1;32mc:\\Users\\clare\\anaconda3\\envs\\late-tf-env\\lib\\site-packages\\tf_agents\\policies\\policy_saver.py:609\u001b[0m, in \u001b[0;36mPolicySaver.save\u001b[1;34m(self, export_dir, options)\u001b[0m\n\u001b[0;32m    <a href='file:///c%3A/Users/clare/anaconda3/envs/late-tf-env/lib/site-packages/tf_agents/policies/policy_saver.py?line=599'>600</a>\u001b[0m \u001b[39mdef\u001b[39;00m \u001b[39msave\u001b[39m(\u001b[39mself\u001b[39m,\n\u001b[0;32m    <a href='file:///c%3A/Users/clare/anaconda3/envs/late-tf-env/lib/site-packages/tf_agents/policies/policy_saver.py?line=600'>601</a>\u001b[0m          export_dir: Text,\n\u001b[0;32m    <a href='file:///c%3A/Users/clare/anaconda3/envs/late-tf-env/lib/site-packages/tf_agents/policies/policy_saver.py?line=601'>602</a>\u001b[0m          options: Optional[tf\u001b[39m.\u001b[39msaved_model\u001b[39m.\u001b[39mSaveOptions] \u001b[39m=\u001b[39m \u001b[39mNone\u001b[39;00m):\n\u001b[0;32m    <a href='file:///c%3A/Users/clare/anaconda3/envs/late-tf-env/lib/site-packages/tf_agents/policies/policy_saver.py?line=602'>603</a>\u001b[0m   \u001b[39m\"\"\"Save the policy to the given `export_dir`.\u001b[39;00m\n\u001b[0;32m    <a href='file:///c%3A/Users/clare/anaconda3/envs/late-tf-env/lib/site-packages/tf_agents/policies/policy_saver.py?line=603'>604</a>\u001b[0m \n\u001b[0;32m    <a href='file:///c%3A/Users/clare/anaconda3/envs/late-tf-env/lib/site-packages/tf_agents/policies/policy_saver.py?line=604'>605</a>\u001b[0m \u001b[39m  Args:\u001b[39;00m\n\u001b[0;32m    <a href='file:///c%3A/Users/clare/anaconda3/envs/late-tf-env/lib/site-packages/tf_agents/policies/policy_saver.py?line=605'>606</a>\u001b[0m \u001b[39m    export_dir: Directory to save the policy to.\u001b[39;00m\n\u001b[0;32m    <a href='file:///c%3A/Users/clare/anaconda3/envs/late-tf-env/lib/site-packages/tf_agents/policies/policy_saver.py?line=606'>607</a>\u001b[0m \u001b[39m    options: Optional `tf.saved_model.SaveOptions` object.\u001b[39;00m\n\u001b[0;32m    <a href='file:///c%3A/Users/clare/anaconda3/envs/late-tf-env/lib/site-packages/tf_agents/policies/policy_saver.py?line=607'>608</a>\u001b[0m \u001b[39m  \"\"\"\u001b[39;00m\n\u001b[1;32m--> <a href='file:///c%3A/Users/clare/anaconda3/envs/late-tf-env/lib/site-packages/tf_agents/policies/policy_saver.py?line=608'>609</a>\u001b[0m   tf\u001b[39m.\u001b[39;49mcompat\u001b[39m.\u001b[39;49mv2\u001b[39m.\u001b[39;49msaved_model\u001b[39m.\u001b[39;49msave(\n\u001b[0;32m    <a href='file:///c%3A/Users/clare/anaconda3/envs/late-tf-env/lib/site-packages/tf_agents/policies/policy_saver.py?line=609'>610</a>\u001b[0m       \u001b[39mself\u001b[39;49m\u001b[39m.\u001b[39;49m_policy, export_dir, signatures\u001b[39m=\u001b[39;49m\u001b[39mself\u001b[39;49m\u001b[39m.\u001b[39;49m_signatures, options\u001b[39m=\u001b[39;49moptions)\n\u001b[0;32m    <a href='file:///c%3A/Users/clare/anaconda3/envs/late-tf-env/lib/site-packages/tf_agents/policies/policy_saver.py?line=611'>612</a>\u001b[0m   temp_spec_file_name \u001b[39m=\u001b[39m \u001b[39m'\u001b[39m\u001b[39m{}\u001b[39;00m\u001b[39m_temp\u001b[39m\u001b[39m'\u001b[39m\u001b[39m.\u001b[39mformat(POLICY_SPECS_PBTXT)\n\u001b[0;32m    <a href='file:///c%3A/Users/clare/anaconda3/envs/late-tf-env/lib/site-packages/tf_agents/policies/policy_saver.py?line=612'>613</a>\u001b[0m   temp_spec_output_path \u001b[39m=\u001b[39m os\u001b[39m.\u001b[39mpath\u001b[39m.\u001b[39mjoin(export_dir, temp_spec_file_name)\n",
      "File \u001b[1;32mc:\\Users\\clare\\anaconda3\\envs\\late-tf-env\\lib\\site-packages\\tensorflow\\python\\saved_model\\save.py:1334\u001b[0m, in \u001b[0;36msave\u001b[1;34m(obj, export_dir, signatures, options)\u001b[0m\n\u001b[0;32m   <a href='file:///c%3A/Users/clare/anaconda3/envs/late-tf-env/lib/site-packages/tensorflow/python/saved_model/save.py?line=1331'>1332</a>\u001b[0m \u001b[39m# pylint: enable=line-too-long\u001b[39;00m\n\u001b[0;32m   <a href='file:///c%3A/Users/clare/anaconda3/envs/late-tf-env/lib/site-packages/tensorflow/python/saved_model/save.py?line=1332'>1333</a>\u001b[0m metrics\u001b[39m.\u001b[39mIncrementWriteApi(_SAVE_V2_LABEL)\n\u001b[1;32m-> <a href='file:///c%3A/Users/clare/anaconda3/envs/late-tf-env/lib/site-packages/tensorflow/python/saved_model/save.py?line=1333'>1334</a>\u001b[0m save_and_return_nodes(obj, export_dir, signatures, options)\n\u001b[0;32m   <a href='file:///c%3A/Users/clare/anaconda3/envs/late-tf-env/lib/site-packages/tensorflow/python/saved_model/save.py?line=1334'>1335</a>\u001b[0m metrics\u001b[39m.\u001b[39mIncrementWrite(write_version\u001b[39m=\u001b[39m\u001b[39m\"\u001b[39m\u001b[39m2\u001b[39m\u001b[39m\"\u001b[39m)\n",
      "File \u001b[1;32mc:\\Users\\clare\\anaconda3\\envs\\late-tf-env\\lib\\site-packages\\tensorflow\\python\\saved_model\\save.py:1369\u001b[0m, in \u001b[0;36msave_and_return_nodes\u001b[1;34m(obj, export_dir, signatures, options, experimental_skip_checkpoint)\u001b[0m\n\u001b[0;32m   <a href='file:///c%3A/Users/clare/anaconda3/envs/late-tf-env/lib/site-packages/tensorflow/python/saved_model/save.py?line=1364'>1365</a>\u001b[0m saved_model \u001b[39m=\u001b[39m saved_model_pb2\u001b[39m.\u001b[39mSavedModel()\n\u001b[0;32m   <a href='file:///c%3A/Users/clare/anaconda3/envs/late-tf-env/lib/site-packages/tensorflow/python/saved_model/save.py?line=1365'>1366</a>\u001b[0m meta_graph_def \u001b[39m=\u001b[39m saved_model\u001b[39m.\u001b[39mmeta_graphs\u001b[39m.\u001b[39madd()\n\u001b[0;32m   <a href='file:///c%3A/Users/clare/anaconda3/envs/late-tf-env/lib/site-packages/tensorflow/python/saved_model/save.py?line=1367'>1368</a>\u001b[0m _, exported_graph, object_saver, asset_info, saved_nodes, node_paths \u001b[39m=\u001b[39m (\n\u001b[1;32m-> <a href='file:///c%3A/Users/clare/anaconda3/envs/late-tf-env/lib/site-packages/tensorflow/python/saved_model/save.py?line=1368'>1369</a>\u001b[0m     _build_meta_graph(obj, signatures, options, meta_graph_def))\n\u001b[0;32m   <a href='file:///c%3A/Users/clare/anaconda3/envs/late-tf-env/lib/site-packages/tensorflow/python/saved_model/save.py?line=1369'>1370</a>\u001b[0m saved_model\u001b[39m.\u001b[39msaved_model_schema_version \u001b[39m=\u001b[39m (\n\u001b[0;32m   <a href='file:///c%3A/Users/clare/anaconda3/envs/late-tf-env/lib/site-packages/tensorflow/python/saved_model/save.py?line=1370'>1371</a>\u001b[0m     constants\u001b[39m.\u001b[39mSAVED_MODEL_SCHEMA_VERSION)\n\u001b[0;32m   <a href='file:///c%3A/Users/clare/anaconda3/envs/late-tf-env/lib/site-packages/tensorflow/python/saved_model/save.py?line=1372'>1373</a>\u001b[0m \u001b[39m# Write the checkpoint, copy assets into the assets directory, and write out\u001b[39;00m\n\u001b[0;32m   <a href='file:///c%3A/Users/clare/anaconda3/envs/late-tf-env/lib/site-packages/tensorflow/python/saved_model/save.py?line=1373'>1374</a>\u001b[0m \u001b[39m# the SavedModel proto itself.\u001b[39;00m\n",
      "File \u001b[1;32mc:\\Users\\clare\\anaconda3\\envs\\late-tf-env\\lib\\site-packages\\tensorflow\\python\\saved_model\\save.py:1536\u001b[0m, in \u001b[0;36m_build_meta_graph\u001b[1;34m(obj, signatures, options, meta_graph_def)\u001b[0m\n\u001b[0;32m   <a href='file:///c%3A/Users/clare/anaconda3/envs/late-tf-env/lib/site-packages/tensorflow/python/saved_model/save.py?line=1510'>1511</a>\u001b[0m \u001b[39m\"\"\"Creates a MetaGraph under a save context.\u001b[39;00m\n\u001b[0;32m   <a href='file:///c%3A/Users/clare/anaconda3/envs/late-tf-env/lib/site-packages/tensorflow/python/saved_model/save.py?line=1511'>1512</a>\u001b[0m \n\u001b[0;32m   <a href='file:///c%3A/Users/clare/anaconda3/envs/late-tf-env/lib/site-packages/tensorflow/python/saved_model/save.py?line=1512'>1513</a>\u001b[0m \u001b[39mArgs:\u001b[39;00m\n\u001b[1;32m   (...)\u001b[0m\n\u001b[0;32m   <a href='file:///c%3A/Users/clare/anaconda3/envs/late-tf-env/lib/site-packages/tensorflow/python/saved_model/save.py?line=1531'>1532</a>\u001b[0m \u001b[39m  asset_info: `_AssetInfo` tuple containing external assets in the `obj`.\u001b[39;00m\n\u001b[0;32m   <a href='file:///c%3A/Users/clare/anaconda3/envs/late-tf-env/lib/site-packages/tensorflow/python/saved_model/save.py?line=1532'>1533</a>\u001b[0m \u001b[39m\"\"\"\u001b[39;00m\n\u001b[0;32m   <a href='file:///c%3A/Users/clare/anaconda3/envs/late-tf-env/lib/site-packages/tensorflow/python/saved_model/save.py?line=1534'>1535</a>\u001b[0m \u001b[39mwith\u001b[39;00m save_context\u001b[39m.\u001b[39msave_context(options):\n\u001b[1;32m-> <a href='file:///c%3A/Users/clare/anaconda3/envs/late-tf-env/lib/site-packages/tensorflow/python/saved_model/save.py?line=1535'>1536</a>\u001b[0m   \u001b[39mreturn\u001b[39;00m _build_meta_graph_impl(obj, signatures, options, meta_graph_def)\n",
      "File \u001b[1;32mc:\\Users\\clare\\anaconda3\\envs\\late-tf-env\\lib\\site-packages\\tensorflow\\python\\saved_model\\save.py:1490\u001b[0m, in \u001b[0;36m_build_meta_graph_impl\u001b[1;34m(obj, signatures, options, meta_graph_def)\u001b[0m\n\u001b[0;32m   <a href='file:///c%3A/Users/clare/anaconda3/envs/late-tf-env/lib/site-packages/tensorflow/python/saved_model/save.py?line=1486'>1487</a>\u001b[0m saveable_view \u001b[39m=\u001b[39m _SaveableView(checkpoint_graph_view, options,\n\u001b[0;32m   <a href='file:///c%3A/Users/clare/anaconda3/envs/late-tf-env/lib/site-packages/tensorflow/python/saved_model/save.py?line=1487'>1488</a>\u001b[0m                               wrapped_functions)\n\u001b[0;32m   <a href='file:///c%3A/Users/clare/anaconda3/envs/late-tf-env/lib/site-packages/tensorflow/python/saved_model/save.py?line=1488'>1489</a>\u001b[0m object_saver \u001b[39m=\u001b[39m util\u001b[39m.\u001b[39mTrackableSaver(checkpoint_graph_view)\n\u001b[1;32m-> <a href='file:///c%3A/Users/clare/anaconda3/envs/late-tf-env/lib/site-packages/tensorflow/python/saved_model/save.py?line=1489'>1490</a>\u001b[0m asset_info, exported_graph \u001b[39m=\u001b[39m _fill_meta_graph_def(\n\u001b[0;32m   <a href='file:///c%3A/Users/clare/anaconda3/envs/late-tf-env/lib/site-packages/tensorflow/python/saved_model/save.py?line=1490'>1491</a>\u001b[0m     meta_graph_def, saveable_view, signatures,\n\u001b[0;32m   <a href='file:///c%3A/Users/clare/anaconda3/envs/late-tf-env/lib/site-packages/tensorflow/python/saved_model/save.py?line=1491'>1492</a>\u001b[0m     options\u001b[39m.\u001b[39;49mnamespace_whitelist, options\u001b[39m.\u001b[39;49mexperimental_custom_gradients)\n\u001b[0;32m   <a href='file:///c%3A/Users/clare/anaconda3/envs/late-tf-env/lib/site-packages/tensorflow/python/saved_model/save.py?line=1492'>1493</a>\u001b[0m \u001b[39mif\u001b[39;00m options\u001b[39m.\u001b[39mfunction_aliases:\n\u001b[0;32m   <a href='file:///c%3A/Users/clare/anaconda3/envs/late-tf-env/lib/site-packages/tensorflow/python/saved_model/save.py?line=1493'>1494</a>\u001b[0m   function_aliases \u001b[39m=\u001b[39m meta_graph_def\u001b[39m.\u001b[39mmeta_info_def\u001b[39m.\u001b[39mfunction_aliases\n",
      "File \u001b[1;32mc:\\Users\\clare\\anaconda3\\envs\\late-tf-env\\lib\\site-packages\\tensorflow\\python\\saved_model\\save.py:940\u001b[0m, in \u001b[0;36m_fill_meta_graph_def\u001b[1;34m(meta_graph_def, saveable_view, signature_functions, namespace_whitelist, save_custom_gradients)\u001b[0m\n\u001b[0;32m    <a href='file:///c%3A/Users/clare/anaconda3/envs/late-tf-env/lib/site-packages/tensorflow/python/saved_model/save.py?line=934'>935</a>\u001b[0m saver \u001b[39m=\u001b[39m functional_saver\u001b[39m.\u001b[39mMultiDeviceSaver(named_saveable_objects,\n\u001b[0;32m    <a href='file:///c%3A/Users/clare/anaconda3/envs/late-tf-env/lib/site-packages/tensorflow/python/saved_model/save.py?line=935'>936</a>\u001b[0m                                           registered_savers,\n\u001b[0;32m    <a href='file:///c%3A/Users/clare/anaconda3/envs/late-tf-env/lib/site-packages/tensorflow/python/saved_model/save.py?line=936'>937</a>\u001b[0m                                           call_with_mapped_captures)\n\u001b[0;32m    <a href='file:///c%3A/Users/clare/anaconda3/envs/late-tf-env/lib/site-packages/tensorflow/python/saved_model/save.py?line=938'>939</a>\u001b[0m \u001b[39mwith\u001b[39;00m exported_graph\u001b[39m.\u001b[39mas_default():\n\u001b[1;32m--> <a href='file:///c%3A/Users/clare/anaconda3/envs/late-tf-env/lib/site-packages/tensorflow/python/saved_model/save.py?line=939'>940</a>\u001b[0m   signatures \u001b[39m=\u001b[39m _generate_signatures(signature_functions, resource_map)\n\u001b[0;32m    <a href='file:///c%3A/Users/clare/anaconda3/envs/late-tf-env/lib/site-packages/tensorflow/python/saved_model/save.py?line=940'>941</a>\u001b[0m   \u001b[39mfor\u001b[39;00m concrete_function \u001b[39min\u001b[39;00m saveable_view\u001b[39m.\u001b[39mconcrete_functions:\n\u001b[0;32m    <a href='file:///c%3A/Users/clare/anaconda3/envs/late-tf-env/lib/site-packages/tensorflow/python/saved_model/save.py?line=941'>942</a>\u001b[0m     concrete_function\u001b[39m.\u001b[39madd_to_graph()\n",
      "File \u001b[1;32mc:\\Users\\clare\\anaconda3\\envs\\late-tf-env\\lib\\site-packages\\tensorflow\\python\\saved_model\\save.py:679\u001b[0m, in \u001b[0;36m_generate_signatures\u001b[1;34m(signature_functions, resource_map)\u001b[0m\n\u001b[0;32m    <a href='file:///c%3A/Users/clare/anaconda3/envs/late-tf-env/lib/site-packages/tensorflow/python/saved_model/save.py?line=674'>675</a>\u001b[0m     argument_inputs \u001b[39m=\u001b[39m function\u001b[39m.\u001b[39mgraph\u001b[39m.\u001b[39minputs\n\u001b[0;32m    <a href='file:///c%3A/Users/clare/anaconda3/envs/late-tf-env/lib/site-packages/tensorflow/python/saved_model/save.py?line=675'>676</a>\u001b[0m   mapped_inputs, exterior_argument_placeholders \u001b[39m=\u001b[39m (\n\u001b[0;32m    <a href='file:///c%3A/Users/clare/anaconda3/envs/late-tf-env/lib/site-packages/tensorflow/python/saved_model/save.py?line=676'>677</a>\u001b[0m       _map_function_arguments_to_created_inputs(argument_inputs,\n\u001b[0;32m    <a href='file:///c%3A/Users/clare/anaconda3/envs/late-tf-env/lib/site-packages/tensorflow/python/saved_model/save.py?line=677'>678</a>\u001b[0m                                                 signature_key, function\u001b[39m.\u001b[39mname))\n\u001b[1;32m--> <a href='file:///c%3A/Users/clare/anaconda3/envs/late-tf-env/lib/site-packages/tensorflow/python/saved_model/save.py?line=678'>679</a>\u001b[0m   outputs \u001b[39m=\u001b[39m _call_function_with_mapped_captures(\n\u001b[0;32m    <a href='file:///c%3A/Users/clare/anaconda3/envs/late-tf-env/lib/site-packages/tensorflow/python/saved_model/save.py?line=679'>680</a>\u001b[0m       function, mapped_inputs, resource_map)\n\u001b[0;32m    <a href='file:///c%3A/Users/clare/anaconda3/envs/late-tf-env/lib/site-packages/tensorflow/python/saved_model/save.py?line=680'>681</a>\u001b[0m   signatures[signature_key] \u001b[39m=\u001b[39m signature_def_utils\u001b[39m.\u001b[39mbuild_signature_def(\n\u001b[0;32m    <a href='file:///c%3A/Users/clare/anaconda3/envs/late-tf-env/lib/site-packages/tensorflow/python/saved_model/save.py?line=681'>682</a>\u001b[0m       _tensor_dict_to_tensorinfo(exterior_argument_placeholders),\n\u001b[0;32m    <a href='file:///c%3A/Users/clare/anaconda3/envs/late-tf-env/lib/site-packages/tensorflow/python/saved_model/save.py?line=682'>683</a>\u001b[0m       _tensor_dict_to_tensorinfo(outputs),\n\u001b[0;32m    <a href='file:///c%3A/Users/clare/anaconda3/envs/late-tf-env/lib/site-packages/tensorflow/python/saved_model/save.py?line=683'>684</a>\u001b[0m       method_name\u001b[39m=\u001b[39msignature_constants\u001b[39m.\u001b[39mPREDICT_METHOD_NAME)\n\u001b[0;32m    <a href='file:///c%3A/Users/clare/anaconda3/envs/late-tf-env/lib/site-packages/tensorflow/python/saved_model/save.py?line=684'>685</a>\u001b[0m \u001b[39mreturn\u001b[39;00m signatures\n",
      "File \u001b[1;32mc:\\Users\\clare\\anaconda3\\envs\\late-tf-env\\lib\\site-packages\\tensorflow\\python\\saved_model\\save.py:631\u001b[0m, in \u001b[0;36m_call_function_with_mapped_captures\u001b[1;34m(function, args, resource_map)\u001b[0m\n\u001b[0;32m    <a href='file:///c%3A/Users/clare/anaconda3/envs/late-tf-env/lib/site-packages/tensorflow/python/saved_model/save.py?line=628'>629</a>\u001b[0m \u001b[39mdef\u001b[39;00m \u001b[39m_call_function_with_mapped_captures\u001b[39m(function, args, resource_map):\n\u001b[0;32m    <a href='file:///c%3A/Users/clare/anaconda3/envs/late-tf-env/lib/site-packages/tensorflow/python/saved_model/save.py?line=629'>630</a>\u001b[0m   \u001b[39m\"\"\"Calls `function` in the exported graph, using mapped resource captures.\"\"\"\u001b[39;00m\n\u001b[1;32m--> <a href='file:///c%3A/Users/clare/anaconda3/envs/late-tf-env/lib/site-packages/tensorflow/python/saved_model/save.py?line=630'>631</a>\u001b[0m   export_captures \u001b[39m=\u001b[39m _map_captures_to_created_tensors(function\u001b[39m.\u001b[39;49mgraph\u001b[39m.\u001b[39;49mcaptures,\n\u001b[0;32m    <a href='file:///c%3A/Users/clare/anaconda3/envs/late-tf-env/lib/site-packages/tensorflow/python/saved_model/save.py?line=631'>632</a>\u001b[0m                                                      resource_map)\n\u001b[0;32m    <a href='file:///c%3A/Users/clare/anaconda3/envs/late-tf-env/lib/site-packages/tensorflow/python/saved_model/save.py?line=632'>633</a>\u001b[0m   \u001b[39m# Calls the function quite directly, since we have new captured resource\u001b[39;00m\n\u001b[0;32m    <a href='file:///c%3A/Users/clare/anaconda3/envs/late-tf-env/lib/site-packages/tensorflow/python/saved_model/save.py?line=633'>634</a>\u001b[0m   \u001b[39m# tensors we need to feed in which weren't part of the original function\u001b[39;00m\n\u001b[0;32m    <a href='file:///c%3A/Users/clare/anaconda3/envs/late-tf-env/lib/site-packages/tensorflow/python/saved_model/save.py?line=634'>635</a>\u001b[0m   \u001b[39m# definition.\u001b[39;00m\n\u001b[0;32m    <a href='file:///c%3A/Users/clare/anaconda3/envs/late-tf-env/lib/site-packages/tensorflow/python/saved_model/save.py?line=635'>636</a>\u001b[0m   \u001b[39m# pylint: disable=protected-access\u001b[39;00m\n\u001b[0;32m    <a href='file:///c%3A/Users/clare/anaconda3/envs/late-tf-env/lib/site-packages/tensorflow/python/saved_model/save.py?line=636'>637</a>\u001b[0m   outputs \u001b[39m=\u001b[39m function\u001b[39m.\u001b[39m_call_flat(args, export_captures)\n",
      "File \u001b[1;32mc:\\Users\\clare\\anaconda3\\envs\\late-tf-env\\lib\\site-packages\\tensorflow\\python\\saved_model\\save.py:527\u001b[0m, in \u001b[0;36m_map_captures_to_created_tensors\u001b[1;34m(original_captures, resource_map)\u001b[0m\n\u001b[0;32m    <a href='file:///c%3A/Users/clare/anaconda3/envs/late-tf-env/lib/site-packages/tensorflow/python/saved_model/save.py?line=524'>525</a>\u001b[0m         \u001b[39mif\u001b[39;00m \u001b[39misinstance\u001b[39m(secondary_referrer, base\u001b[39m.\u001b[39mTrackable):\n\u001b[0;32m    <a href='file:///c%3A/Users/clare/anaconda3/envs/late-tf-env/lib/site-packages/tensorflow/python/saved_model/save.py?line=525'>526</a>\u001b[0m           trackable_referrers\u001b[39m.\u001b[39mappend(secondary_referrer)\n\u001b[1;32m--> <a href='file:///c%3A/Users/clare/anaconda3/envs/late-tf-env/lib/site-packages/tensorflow/python/saved_model/save.py?line=526'>527</a>\u001b[0m     \u001b[39mraise\u001b[39;00m \u001b[39mAssertionError\u001b[39;00m(\n\u001b[0;32m    <a href='file:///c%3A/Users/clare/anaconda3/envs/late-tf-env/lib/site-packages/tensorflow/python/saved_model/save.py?line=527'>528</a>\u001b[0m         \u001b[39m\"\u001b[39m\u001b[39mTried to export a function which references \u001b[39m\u001b[39m'\u001b[39m\u001b[39muntracked\u001b[39m\u001b[39m'\u001b[39m\u001b[39m resource \u001b[39m\u001b[39m\"\u001b[39m\n\u001b[0;32m    <a href='file:///c%3A/Users/clare/anaconda3/envs/late-tf-env/lib/site-packages/tensorflow/python/saved_model/save.py?line=528'>529</a>\u001b[0m         \u001b[39mf\u001b[39m\u001b[39m\"\u001b[39m\u001b[39m{\u001b[39;00minterior\u001b[39m}\u001b[39;00m\u001b[39m. TensorFlow objects (e.g. tf.Variable) captured by \u001b[39m\u001b[39m\"\u001b[39m\n\u001b[0;32m    <a href='file:///c%3A/Users/clare/anaconda3/envs/late-tf-env/lib/site-packages/tensorflow/python/saved_model/save.py?line=529'>530</a>\u001b[0m         \u001b[39m\"\u001b[39m\u001b[39mfunctions must be \u001b[39m\u001b[39m'\u001b[39m\u001b[39mtracked\u001b[39m\u001b[39m'\u001b[39m\u001b[39m by assigning them to an attribute of a \u001b[39m\u001b[39m\"\u001b[39m\n\u001b[0;32m    <a href='file:///c%3A/Users/clare/anaconda3/envs/late-tf-env/lib/site-packages/tensorflow/python/saved_model/save.py?line=530'>531</a>\u001b[0m         \u001b[39m\"\u001b[39m\u001b[39mtracked object or assigned to an attribute of the main object \u001b[39m\u001b[39m\"\u001b[39m\n\u001b[0;32m    <a href='file:///c%3A/Users/clare/anaconda3/envs/late-tf-env/lib/site-packages/tensorflow/python/saved_model/save.py?line=531'>532</a>\u001b[0m         \u001b[39m\"\u001b[39m\u001b[39mdirectly.\u001b[39m\u001b[39m\\n\u001b[39;00m\u001b[39m\\n\u001b[39;00m\u001b[39m Trackable Python objects referring to this tensor \u001b[39m\u001b[39m\"\u001b[39m\n\u001b[0;32m    <a href='file:///c%3A/Users/clare/anaconda3/envs/late-tf-env/lib/site-packages/tensorflow/python/saved_model/save.py?line=532'>533</a>\u001b[0m         \u001b[39m\"\u001b[39m\u001b[39m(from gc.get_referrers, limited to two hops):\u001b[39m\u001b[39m\\n\u001b[39;00m\u001b[39m{}\u001b[39;00m\u001b[39m\"\u001b[39m\u001b[39m.\u001b[39mformat(\u001b[39m\"\u001b[39m\u001b[39m\\n\u001b[39;00m\u001b[39m\"\u001b[39m\u001b[39m.\u001b[39mjoin(\n\u001b[0;32m    <a href='file:///c%3A/Users/clare/anaconda3/envs/late-tf-env/lib/site-packages/tensorflow/python/saved_model/save.py?line=533'>534</a>\u001b[0m             [\u001b[39mrepr\u001b[39m(obj) \u001b[39mfor\u001b[39;00m obj \u001b[39min\u001b[39;00m trackable_referrers])))\n\u001b[0;32m    <a href='file:///c%3A/Users/clare/anaconda3/envs/late-tf-env/lib/site-packages/tensorflow/python/saved_model/save.py?line=534'>535</a>\u001b[0m   export_captures\u001b[39m.\u001b[39mappend(mapped_resource)\n\u001b[0;32m    <a href='file:///c%3A/Users/clare/anaconda3/envs/late-tf-env/lib/site-packages/tensorflow/python/saved_model/save.py?line=535'>536</a>\u001b[0m \u001b[39mreturn\u001b[39;00m export_captures\n",
      "\u001b[1;31mAssertionError\u001b[0m: Tried to export a function which references 'untracked' resource Tensor(\"1882461:0\", shape=(), dtype=resource). TensorFlow objects (e.g. tf.Variable) captured by functions must be 'tracked' by assigning them to an attribute of a tracked object or assigned to an attribute of the main object directly.\n\n Trackable Python objects referring to this tensor (from gc.get_referrers, limited to two hops):\n<tf.Variable 'Variable:0' shape=() dtype=int32>"
     ]
    }
   ],
   "source": [
    "print('Training one iteration....')\n",
    "train_agent(1)"
   ]
  }
 ],
 "metadata": {
  "interpreter": {
   "hash": "cff0a5753bbe1c482f45929baeb1d46965174c27b3e9cc4c8354a1ffea53b763"
  },
  "kernelspec": {
   "display_name": "Python 3.8.13 ('late-tf-env')",
   "language": "python",
   "name": "python3"
  },
  "language_info": {
   "codemirror_mode": {
    "name": "ipython",
    "version": 3
   },
   "file_extension": ".py",
   "mimetype": "text/x-python",
   "name": "python",
   "nbconvert_exporter": "python",
   "pygments_lexer": "ipython3",
   "version": "3.8.13"
  },
  "orig_nbformat": 4
 },
 "nbformat": 4,
 "nbformat_minor": 2
}
