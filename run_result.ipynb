{
 "cells": [
  {
   "cell_type": "code",
   "execution_count": 10,
   "metadata": {},
   "outputs": [],
   "source": [
    "import tensorflow as tf\n",
    "from tf_agents import policies\n",
    "\n",
    "saved_policy = tf.compat.v2.saved_model.load(\"policy_200000\")\n",
    "get_initial_state_fn = saved_policy.signatures['get_initial_state']"
   ]
  },
  {
   "cell_type": "code",
   "execution_count": 2,
   "metadata": {},
   "outputs": [
    {
     "data": {
      "text/plain": [
       "<ConcreteFunction signature_wrapper(*, batch_size) at 0x21B07563100>"
      ]
     },
     "execution_count": 2,
     "metadata": {},
     "output_type": "execute_result"
    }
   ],
   "source": [
    "get_initial_state_fn"
   ]
  },
  {
   "cell_type": "code",
   "execution_count": 11,
   "metadata": {},
   "outputs": [
    {
     "name": "stderr",
     "output_type": "stream",
     "text": [
      "c:\\Users\\clare\\anaconda3\\envs\\late-tf-env\\lib\\site-packages\\gym\\utils\\seeding.py:138: DeprecationWarning: \u001b[33mWARN: Function `hash_seed(seed, max_bytes)` is marked as deprecated and will be removed in the future. \u001b[0m\n",
      "  deprecation(\n",
      "c:\\Users\\clare\\anaconda3\\envs\\late-tf-env\\lib\\site-packages\\gym\\utils\\seeding.py:175: DeprecationWarning: \u001b[33mWARN: Function `_bigint_from_bytes(bytes)` is marked as deprecated and will be removed in the future. \u001b[0m\n",
      "  deprecation(\n"
     ]
    }
   ],
   "source": [
    "from tf_agents.environments.wrappers import ActionRepeat\n",
    "from gym.wrappers import TimeLimit\n",
    "from tf_agents.environments.atari_preprocessing import AtariPreprocessing\n",
    "from tf_agents.environments.atari_wrappers import FrameStack4\n",
    "from tf_agents.environments import suite_gym\n",
    "from tf_agents.environments import TFPyEnvironment\n",
    "\n",
    "class AtariPreprocessingWithSkipStart(AtariPreprocessing):\n",
    "    def skip_frames(self, num_skip):\n",
    "        for _ in range(num_skip):\n",
    "          super().step(0) # NOOP for num_skip steps\n",
    "    def reset(self, **kwargs):\n",
    "        obs = super().reset(**kwargs)\n",
    "        self.skip_frames(40)\n",
    "        return obs\n",
    "    def step(self, action):\n",
    "        lives_before_action = self.ale.lives()\n",
    "        obs, rewards, done, info = super().step(action)\n",
    "        if self.ale.lives() < lives_before_action and not done:\n",
    "            self.skip_frames(40)\n",
    "        return obs, rewards, done, info\n",
    "\n",
    "\n",
    "# repeating_env = ActionRepeat(env, times=4)\n",
    "limited_repeating_env = suite_gym.load(\n",
    "    \"ALE/SpaceInvaders-v5\",\n",
    "    gym_env_wrappers=[lambda env: TimeLimit(env, max_episode_steps=10000)],\n",
    "    env_wrappers=[lambda env: ActionRepeat(env, times=4)]\n",
    ")\n",
    "env = suite_gym.load(\n",
    "    'ALE/SpaceInvaders-v5',\n",
    "    max_episode_steps=27000,\n",
    "    gym_env_wrappers=[AtariPreprocessingWithSkipStart, FrameStack4]\n",
    ")\n",
    "tf_env = TFPyEnvironment(env)"
   ]
  },
  {
   "cell_type": "code",
   "execution_count": 12,
   "metadata": {},
   "outputs": [],
   "source": [
    "from matplotlib import animation\n",
    "import matplotlib.pyplot as plt\n",
    "from tf_agents.drivers.dynamic_step_driver import DynamicStepDriver\n",
    "\n",
    "\n",
    "\n",
    "frames = []\n",
    "\n",
    "class ShowProgress():\n",
    "    def __init__(self, total):\n",
    "        self.counter = 0\n",
    "        self.total = total\n",
    "    def __call__(self, trajectory):\n",
    "        if not trajectory.is_boundary():\n",
    "            self.counter += 1\n",
    "        if self.counter % 100 == 0:\n",
    "            log_metrics(train_metrics)\n",
    "            print(\"\\r{}/{}\".format(self.counter, self.total), end=\"\")\n"
   ]
  },
  {
   "cell_type": "code",
   "execution_count": 13,
   "metadata": {},
   "outputs": [],
   "source": [
    "from tf_agents.metrics import tf_metrics\n",
    "\n",
    "train_metrics = [\n",
    "    tf_metrics.NumberOfEpisodes(),\n",
    "    tf_metrics.EnvironmentSteps(),\n",
    "    tf_metrics.AverageReturnMetric(),\n",
    "    tf_metrics.AverageEpisodeLengthMetric()\n",
    "]"
   ]
  },
  {
   "cell_type": "code",
   "execution_count": 14,
   "metadata": {},
   "outputs": [
    {
     "name": "stdout",
     "output_type": "stream",
     "text": [
      "WARNING:tensorflow:5 out of the last 40777 calls to <function TFStepMetric._update_state at 0x0000017D70C52550> triggered tf.function retracing. Tracing is expensive and the excessive number of tracings could be due to (1) creating @tf.function repeatedly in a loop, (2) passing tensors with different shapes, (3) passing Python objects instead of tensors. For (1), please define your @tf.function outside of the loop. For (2), @tf.function has experimental_relax_shapes=True option that relaxes argument shapes that can avoid unnecessary retracing. For (3), please refer to https://www.tensorflow.org/guide/function#controlling_retracing and https://www.tensorflow.org/api_docs/python/tf/function for  more details.\n"
     ]
    },
    {
     "name": "stderr",
     "output_type": "stream",
     "text": [
      "WARNING:tensorflow:5 out of the last 40777 calls to <function TFStepMetric._update_state at 0x0000017D70C52550> triggered tf.function retracing. Tracing is expensive and the excessive number of tracings could be due to (1) creating @tf.function repeatedly in a loop, (2) passing tensors with different shapes, (3) passing Python objects instead of tensors. For (1), please define your @tf.function outside of the loop. For (2), @tf.function has experimental_relax_shapes=True option that relaxes argument shapes that can avoid unnecessary retracing. For (3), please refer to https://www.tensorflow.org/guide/function#controlling_retracing and https://www.tensorflow.org/api_docs/python/tf/function for  more details.\n",
      "INFO:absl: \n",
      "\t\t NumberOfEpisodes = 0\n",
      "\t\t EnvironmentSteps = 99\n",
      "\t\t AverageReturn = 0.0\n",
      "\t\t AverageEpisodeLength = 0.0\n"
     ]
    },
    {
     "name": "stdout",
     "output_type": "stream",
     "text": [
      "100/5000"
     ]
    },
    {
     "name": "stderr",
     "output_type": "stream",
     "text": [
      "INFO:absl: \n",
      "\t\t NumberOfEpisodes = 1\n",
      "\t\t EnvironmentSteps = 199\n",
      "\t\t AverageReturn = 465.0\n",
      "\t\t AverageEpisodeLength = 139.0\n"
     ]
    },
    {
     "name": "stdout",
     "output_type": "stream",
     "text": [
      "200/5000"
     ]
    },
    {
     "name": "stderr",
     "output_type": "stream",
     "text": [
      "INFO:absl: \n",
      "\t\t NumberOfEpisodes = 2\n",
      "\t\t EnvironmentSteps = 299\n",
      "\t\t AverageReturn = 497.5\n",
      "\t\t AverageEpisodeLength = 121.5\n"
     ]
    },
    {
     "name": "stdout",
     "output_type": "stream",
     "text": [
      "300/5000"
     ]
    },
    {
     "name": "stderr",
     "output_type": "stream",
     "text": [
      "INFO:absl: \n",
      "\t\t NumberOfEpisodes = 3\n",
      "\t\t EnvironmentSteps = 399\n",
      "\t\t AverageReturn = 493.3333435058594\n",
      "\t\t AverageEpisodeLength = 119.0\n"
     ]
    },
    {
     "name": "stdout",
     "output_type": "stream",
     "text": [
      "400/5000"
     ]
    },
    {
     "name": "stderr",
     "output_type": "stream",
     "text": [
      "INFO:absl: \n",
      "\t\t NumberOfEpisodes = 3\n",
      "\t\t EnvironmentSteps = 499\n",
      "\t\t AverageReturn = 493.3333435058594\n",
      "\t\t AverageEpisodeLength = 119.0\n"
     ]
    },
    {
     "name": "stdout",
     "output_type": "stream",
     "text": [
      "500/5000"
     ]
    },
    {
     "name": "stderr",
     "output_type": "stream",
     "text": [
      "INFO:absl: \n",
      "\t\t NumberOfEpisodes = 4\n",
      "\t\t EnvironmentSteps = 599\n",
      "\t\t AverageReturn = 512.5\n",
      "\t\t AverageEpisodeLength = 139.75\n"
     ]
    },
    {
     "name": "stdout",
     "output_type": "stream",
     "text": [
      "600/5000"
     ]
    },
    {
     "name": "stderr",
     "output_type": "stream",
     "text": [
      "INFO:absl: \n",
      "\t\t NumberOfEpisodes = 4\n",
      "\t\t EnvironmentSteps = 699\n",
      "\t\t AverageReturn = 512.5\n",
      "\t\t AverageEpisodeLength = 139.75\n"
     ]
    },
    {
     "name": "stdout",
     "output_type": "stream",
     "text": [
      "700/5000"
     ]
    },
    {
     "name": "stderr",
     "output_type": "stream",
     "text": [
      "INFO:absl: \n",
      "\t\t NumberOfEpisodes = 5\n",
      "\t\t EnvironmentSteps = 799\n",
      "\t\t AverageReturn = 565.0\n",
      "\t\t AverageEpisodeLength = 149.1999969482422\n"
     ]
    },
    {
     "name": "stdout",
     "output_type": "stream",
     "text": [
      "800/5000"
     ]
    },
    {
     "name": "stderr",
     "output_type": "stream",
     "text": [
      "INFO:absl: \n",
      "\t\t NumberOfEpisodes = 6\n",
      "\t\t EnvironmentSteps = 899\n",
      "\t\t AverageReturn = 549.1666870117188\n",
      "\t\t AverageEpisodeLength = 145.1666717529297\n"
     ]
    },
    {
     "name": "stdout",
     "output_type": "stream",
     "text": [
      "900/5000"
     ]
    },
    {
     "name": "stderr",
     "output_type": "stream",
     "text": [
      "INFO:absl: \n",
      "\t\t NumberOfEpisodes = 8\n",
      "\t\t EnvironmentSteps = 999\n",
      "\t\t AverageReturn = 468.125\n",
      "\t\t AverageEpisodeLength = 124.75\n"
     ]
    },
    {
     "name": "stdout",
     "output_type": "stream",
     "text": [
      "1000/5000"
     ]
    },
    {
     "name": "stderr",
     "output_type": "stream",
     "text": [
      "INFO:absl: \n",
      "\t\t NumberOfEpisodes = 9\n",
      "\t\t EnvironmentSteps = 1099\n",
      "\t\t AverageReturn = 427.77777099609375\n",
      "\t\t AverageEpisodeLength = 114.44444274902344\n"
     ]
    },
    {
     "name": "stdout",
     "output_type": "stream",
     "text": [
      "1100/5000"
     ]
    },
    {
     "name": "stderr",
     "output_type": "stream",
     "text": [
      "INFO:absl: \n",
      "\t\t NumberOfEpisodes = 10\n",
      "\t\t EnvironmentSteps = 1199\n",
      "\t\t AverageReturn = 437.5\n",
      "\t\t AverageEpisodeLength = 116.80000305175781\n",
      "INFO:absl: \n",
      "\t\t NumberOfEpisodes = 11\n",
      "\t\t EnvironmentSteps = 1200\n",
      "\t\t AverageReturn = 401.5\n",
      "\t\t AverageEpisodeLength = 106.0999984741211\n"
     ]
    },
    {
     "name": "stdout",
     "output_type": "stream",
     "text": [
      "1200/5000"
     ]
    },
    {
     "name": "stderr",
     "output_type": "stream",
     "text": [
      "INFO:absl: \n",
      "\t\t NumberOfEpisodes = 12\n",
      "\t\t EnvironmentSteps = 1299\n",
      "\t\t AverageReturn = 359.0\n",
      "\t\t AverageEpisodeLength = 98.9000015258789\n"
     ]
    },
    {
     "name": "stdout",
     "output_type": "stream",
     "text": [
      "1300/5000"
     ]
    },
    {
     "name": "stderr",
     "output_type": "stream",
     "text": [
      "INFO:absl: \n",
      "\t\t NumberOfEpisodes = 13\n",
      "\t\t EnvironmentSteps = 1399\n",
      "\t\t AverageReturn = 367.5\n",
      "\t\t AverageEpisodeLength = 103.0\n"
     ]
    },
    {
     "name": "stdout",
     "output_type": "stream",
     "text": [
      "1400/5000"
     ]
    },
    {
     "name": "stderr",
     "output_type": "stream",
     "text": [
      "INFO:absl: \n",
      "\t\t NumberOfEpisodes = 14\n",
      "\t\t EnvironmentSteps = 1499\n",
      "\t\t AverageReturn = 354.5\n",
      "\t\t AverageEpisodeLength = 92.0\n"
     ]
    },
    {
     "name": "stdout",
     "output_type": "stream",
     "text": [
      "1500/5000"
     ]
    },
    {
     "name": "stderr",
     "output_type": "stream",
     "text": [
      "INFO:absl: \n",
      "\t\t NumberOfEpisodes = 16\n",
      "\t\t EnvironmentSteps = 1599\n",
      "\t\t AverageReturn = 248.0\n",
      "\t\t AverageEpisodeLength = 66.9000015258789\n"
     ]
    },
    {
     "name": "stdout",
     "output_type": "stream",
     "text": [
      "1600/5000"
     ]
    },
    {
     "name": "stderr",
     "output_type": "stream",
     "text": [
      "INFO:absl: \n",
      "\t\t NumberOfEpisodes = 17\n",
      "\t\t EnvironmentSteps = 1699\n",
      "\t\t AverageReturn = 269.0\n",
      "\t\t AverageEpisodeLength = 72.30000305175781\n"
     ]
    },
    {
     "name": "stdout",
     "output_type": "stream",
     "text": [
      "1700/5000"
     ]
    },
    {
     "name": "stderr",
     "output_type": "stream",
     "text": [
      "INFO:absl: \n",
      "\t\t NumberOfEpisodes = 19\n",
      "\t\t EnvironmentSteps = 1799\n",
      "\t\t AverageReturn = 298.0\n",
      "\t\t AverageEpisodeLength = 75.80000305175781\n"
     ]
    },
    {
     "name": "stdout",
     "output_type": "stream",
     "text": [
      "1800/5000"
     ]
    },
    {
     "name": "stderr",
     "output_type": "stream",
     "text": [
      "INFO:absl: \n",
      "\t\t NumberOfEpisodes = 19\n",
      "\t\t EnvironmentSteps = 1899\n",
      "\t\t AverageReturn = 298.0\n",
      "\t\t AverageEpisodeLength = 75.80000305175781\n"
     ]
    },
    {
     "name": "stdout",
     "output_type": "stream",
     "text": [
      "1900/5000"
     ]
    },
    {
     "name": "stderr",
     "output_type": "stream",
     "text": [
      "INFO:absl: \n",
      "\t\t NumberOfEpisodes = 20\n",
      "\t\t EnvironmentSteps = 1999\n",
      "\t\t AverageReturn = 297.0\n",
      "\t\t AverageEpisodeLength = 76.5\n"
     ]
    },
    {
     "name": "stdout",
     "output_type": "stream",
     "text": [
      "2000/5000"
     ]
    },
    {
     "name": "stderr",
     "output_type": "stream",
     "text": [
      "INFO:absl: \n",
      "\t\t NumberOfEpisodes = 21\n",
      "\t\t EnvironmentSteps = 2099\n",
      "\t\t AverageReturn = 332.0\n",
      "\t\t AverageEpisodeLength = 87.5999984741211\n"
     ]
    },
    {
     "name": "stdout",
     "output_type": "stream",
     "text": [
      "2100/5000"
     ]
    },
    {
     "name": "stderr",
     "output_type": "stream",
     "text": [
      "INFO:absl: \n",
      "\t\t NumberOfEpisodes = 22\n",
      "\t\t EnvironmentSteps = 2199\n",
      "\t\t AverageReturn = 365.5\n",
      "\t\t AverageEpisodeLength = 94.4000015258789\n"
     ]
    },
    {
     "name": "stdout",
     "output_type": "stream",
     "text": [
      "2200/5000"
     ]
    },
    {
     "name": "stderr",
     "output_type": "stream",
     "text": [
      "INFO:absl: \n",
      "\t\t NumberOfEpisodes = 22\n",
      "\t\t EnvironmentSteps = 2299\n",
      "\t\t AverageReturn = 365.5\n",
      "\t\t AverageEpisodeLength = 94.4000015258789\n"
     ]
    },
    {
     "name": "stdout",
     "output_type": "stream",
     "text": [
      "2300/5000"
     ]
    },
    {
     "name": "stderr",
     "output_type": "stream",
     "text": [
      "INFO:absl: \n",
      "\t\t NumberOfEpisodes = 23\n",
      "\t\t EnvironmentSteps = 2399\n",
      "\t\t AverageReturn = 366.0\n",
      "\t\t AverageEpisodeLength = 95.5999984741211\n"
     ]
    },
    {
     "name": "stdout",
     "output_type": "stream",
     "text": [
      "2400/5000"
     ]
    },
    {
     "name": "stderr",
     "output_type": "stream",
     "text": [
      "INFO:absl: \n",
      "\t\t NumberOfEpisodes = 24\n",
      "\t\t EnvironmentSteps = 2499\n",
      "\t\t AverageReturn = 388.5\n",
      "\t\t AverageEpisodeLength = 98.9000015258789\n"
     ]
    },
    {
     "name": "stdout",
     "output_type": "stream",
     "text": [
      "2500/5000"
     ]
    },
    {
     "name": "stderr",
     "output_type": "stream",
     "text": [
      "INFO:absl: \n",
      "\t\t NumberOfEpisodes = 24\n",
      "\t\t EnvironmentSteps = 2599\n",
      "\t\t AverageReturn = 388.5\n",
      "\t\t AverageEpisodeLength = 98.9000015258789\n"
     ]
    },
    {
     "name": "stdout",
     "output_type": "stream",
     "text": [
      "2600/5000"
     ]
    },
    {
     "name": "stderr",
     "output_type": "stream",
     "text": [
      "INFO:absl: \n",
      "\t\t NumberOfEpisodes = 26\n",
      "\t\t EnvironmentSteps = 2699\n",
      "\t\t AverageReturn = 457.5\n",
      "\t\t AverageEpisodeLength = 111.19999694824219\n"
     ]
    },
    {
     "name": "stdout",
     "output_type": "stream",
     "text": [
      "2700/5000"
     ]
    },
    {
     "name": "stderr",
     "output_type": "stream",
     "text": [
      "INFO:absl: \n",
      "\t\t NumberOfEpisodes = 27\n",
      "\t\t EnvironmentSteps = 2799\n",
      "\t\t AverageReturn = 462.5\n",
      "\t\t AverageEpisodeLength = 114.30000305175781\n"
     ]
    },
    {
     "name": "stdout",
     "output_type": "stream",
     "text": [
      "2800/5000"
     ]
    },
    {
     "name": "stderr",
     "output_type": "stream",
     "text": [
      "INFO:absl: \n",
      "\t\t NumberOfEpisodes = 29\n",
      "\t\t EnvironmentSteps = 2899\n",
      "\t\t AverageReturn = 429.5\n",
      "\t\t AverageEpisodeLength = 108.0\n"
     ]
    },
    {
     "name": "stdout",
     "output_type": "stream",
     "text": [
      "2900/5000"
     ]
    },
    {
     "name": "stderr",
     "output_type": "stream",
     "text": [
      "INFO:absl: \n",
      "\t\t NumberOfEpisodes = 29\n",
      "\t\t EnvironmentSteps = 2999\n",
      "\t\t AverageReturn = 429.5\n",
      "\t\t AverageEpisodeLength = 108.0\n"
     ]
    },
    {
     "name": "stdout",
     "output_type": "stream",
     "text": [
      "3000/5000"
     ]
    },
    {
     "name": "stderr",
     "output_type": "stream",
     "text": [
      "INFO:absl: \n",
      "\t\t NumberOfEpisodes = 30\n",
      "\t\t EnvironmentSteps = 3099\n",
      "\t\t AverageReturn = 447.5\n",
      "\t\t AverageEpisodeLength = 114.5999984741211\n"
     ]
    },
    {
     "name": "stdout",
     "output_type": "stream",
     "text": [
      "3100/5000"
     ]
    },
    {
     "name": "stderr",
     "output_type": "stream",
     "text": [
      "INFO:absl: \n",
      "\t\t NumberOfEpisodes = 31\n",
      "\t\t EnvironmentSteps = 3199\n",
      "\t\t AverageReturn = 412.5\n",
      "\t\t AverageEpisodeLength = 103.5\n"
     ]
    },
    {
     "name": "stdout",
     "output_type": "stream",
     "text": [
      "3200/5000"
     ]
    },
    {
     "name": "stderr",
     "output_type": "stream",
     "text": [
      "INFO:absl: \n",
      "\t\t NumberOfEpisodes = 32\n",
      "\t\t EnvironmentSteps = 3299\n",
      "\t\t AverageReturn = 399.0\n",
      "\t\t AverageEpisodeLength = 103.80000305175781\n"
     ]
    },
    {
     "name": "stdout",
     "output_type": "stream",
     "text": [
      "3300/5000"
     ]
    },
    {
     "name": "stderr",
     "output_type": "stream",
     "text": [
      "INFO:absl: \n",
      "\t\t NumberOfEpisodes = 34\n",
      "\t\t EnvironmentSteps = 3399\n",
      "\t\t AverageReturn = 332.0\n",
      "\t\t AverageEpisodeLength = 90.9000015258789\n"
     ]
    },
    {
     "name": "stdout",
     "output_type": "stream",
     "text": [
      "3400/5000"
     ]
    },
    {
     "name": "stderr",
     "output_type": "stream",
     "text": [
      "INFO:absl: \n",
      "\t\t NumberOfEpisodes = 35\n",
      "\t\t EnvironmentSteps = 3499\n",
      "\t\t AverageReturn = 304.5\n",
      "\t\t AverageEpisodeLength = 88.80000305175781\n"
     ]
    },
    {
     "name": "stdout",
     "output_type": "stream",
     "text": [
      "3500/5000"
     ]
    },
    {
     "name": "stderr",
     "output_type": "stream",
     "text": [
      "INFO:absl: \n",
      "\t\t NumberOfEpisodes = 35\n",
      "\t\t EnvironmentSteps = 3599\n",
      "\t\t AverageReturn = 304.5\n",
      "\t\t AverageEpisodeLength = 88.80000305175781\n"
     ]
    },
    {
     "name": "stdout",
     "output_type": "stream",
     "text": [
      "3600/5000"
     ]
    },
    {
     "name": "stderr",
     "output_type": "stream",
     "text": [
      "INFO:absl: \n",
      "\t\t NumberOfEpisodes = 37\n",
      "\t\t EnvironmentSteps = 3699\n",
      "\t\t AverageReturn = 315.0\n",
      "\t\t AverageEpisodeLength = 89.69999694824219\n"
     ]
    },
    {
     "name": "stdout",
     "output_type": "stream",
     "text": [
      "3700/5000"
     ]
    },
    {
     "name": "stderr",
     "output_type": "stream",
     "text": [
      "INFO:absl: \n",
      "\t\t NumberOfEpisodes = 37\n",
      "\t\t EnvironmentSteps = 3799\n",
      "\t\t AverageReturn = 315.0\n",
      "\t\t AverageEpisodeLength = 89.69999694824219\n"
     ]
    },
    {
     "name": "stdout",
     "output_type": "stream",
     "text": [
      "3800/5000"
     ]
    },
    {
     "name": "stderr",
     "output_type": "stream",
     "text": [
      "INFO:absl: \n",
      "\t\t NumberOfEpisodes = 38\n",
      "\t\t EnvironmentSteps = 3899\n",
      "\t\t AverageReturn = 354.0\n",
      "\t\t AverageEpisodeLength = 104.0\n"
     ]
    },
    {
     "name": "stdout",
     "output_type": "stream",
     "text": [
      "3900/5000"
     ]
    },
    {
     "name": "stderr",
     "output_type": "stream",
     "text": [
      "INFO:absl: \n",
      "\t\t NumberOfEpisodes = 39\n",
      "\t\t EnvironmentSteps = 3999\n",
      "\t\t AverageReturn = 396.0\n",
      "\t\t AverageEpisodeLength = 110.0999984741211\n",
      "INFO:absl: \n",
      "\t\t NumberOfEpisodes = 40\n",
      "\t\t EnvironmentSteps = 4000\n",
      "\t\t AverageReturn = 337.0\n",
      "\t\t AverageEpisodeLength = 92.0999984741211\n"
     ]
    },
    {
     "name": "stdout",
     "output_type": "stream",
     "text": [
      "4000/5000"
     ]
    },
    {
     "name": "stderr",
     "output_type": "stream",
     "text": [
      "INFO:absl: \n",
      "\t\t NumberOfEpisodes = 41\n",
      "\t\t EnvironmentSteps = 4099\n",
      "\t\t AverageReturn = 357.0\n",
      "\t\t AverageEpisodeLength = 98.30000305175781\n"
     ]
    },
    {
     "name": "stdout",
     "output_type": "stream",
     "text": [
      "4100/5000"
     ]
    },
    {
     "name": "stderr",
     "output_type": "stream",
     "text": [
      "INFO:absl: \n",
      "\t\t NumberOfEpisodes = 42\n",
      "\t\t EnvironmentSteps = 4199\n",
      "\t\t AverageReturn = 352.0\n",
      "\t\t AverageEpisodeLength = 94.0999984741211\n"
     ]
    },
    {
     "name": "stdout",
     "output_type": "stream",
     "text": [
      "4200/5000"
     ]
    },
    {
     "name": "stderr",
     "output_type": "stream",
     "text": [
      "INFO:absl: \n",
      "\t\t NumberOfEpisodes = 43\n",
      "\t\t EnvironmentSteps = 4299\n",
      "\t\t AverageReturn = 346.0\n",
      "\t\t AverageEpisodeLength = 90.9000015258789\n"
     ]
    },
    {
     "name": "stdout",
     "output_type": "stream",
     "text": [
      "4300/5000"
     ]
    },
    {
     "name": "stderr",
     "output_type": "stream",
     "text": [
      "INFO:absl: \n",
      "\t\t NumberOfEpisodes = 44\n",
      "\t\t EnvironmentSteps = 4399\n",
      "\t\t AverageReturn = 390.0\n",
      "\t\t AverageEpisodeLength = 101.19999694824219\n"
     ]
    },
    {
     "name": "stdout",
     "output_type": "stream",
     "text": [
      "4400/5000"
     ]
    },
    {
     "name": "stderr",
     "output_type": "stream",
     "text": [
      "INFO:absl: \n",
      "\t\t NumberOfEpisodes = 45\n",
      "\t\t EnvironmentSteps = 4499\n",
      "\t\t AverageReturn = 359.5\n",
      "\t\t AverageEpisodeLength = 93.0\n"
     ]
    },
    {
     "name": "stdout",
     "output_type": "stream",
     "text": [
      "4500/5000"
     ]
    },
    {
     "name": "stderr",
     "output_type": "stream",
     "text": [
      "INFO:absl: \n",
      "\t\t NumberOfEpisodes = 46\n",
      "\t\t EnvironmentSteps = 4599\n",
      "\t\t AverageReturn = 338.5\n",
      "\t\t AverageEpisodeLength = 89.9000015258789\n"
     ]
    },
    {
     "name": "stdout",
     "output_type": "stream",
     "text": [
      "4600/5000"
     ]
    },
    {
     "name": "stderr",
     "output_type": "stream",
     "text": [
      "INFO:absl: \n",
      "\t\t NumberOfEpisodes = 47\n",
      "\t\t EnvironmentSteps = 4699\n",
      "\t\t AverageReturn = 372.5\n",
      "\t\t AverageEpisodeLength = 98.0\n"
     ]
    },
    {
     "name": "stdout",
     "output_type": "stream",
     "text": [
      "4700/5000"
     ]
    },
    {
     "name": "stderr",
     "output_type": "stream",
     "text": [
      "INFO:absl: \n",
      "\t\t NumberOfEpisodes = 48\n",
      "\t\t EnvironmentSteps = 4799\n",
      "\t\t AverageReturn = 380.5\n",
      "\t\t AverageEpisodeLength = 95.30000305175781\n"
     ]
    },
    {
     "name": "stdout",
     "output_type": "stream",
     "text": [
      "4800/5000"
     ]
    },
    {
     "name": "stderr",
     "output_type": "stream",
     "text": [
      "INFO:absl: \n",
      "\t\t NumberOfEpisodes = 48\n",
      "\t\t EnvironmentSteps = 4899\n",
      "\t\t AverageReturn = 380.5\n",
      "\t\t AverageEpisodeLength = 95.30000305175781\n"
     ]
    },
    {
     "name": "stdout",
     "output_type": "stream",
     "text": [
      "4900/5000"
     ]
    },
    {
     "name": "stderr",
     "output_type": "stream",
     "text": [
      "INFO:absl: \n",
      "\t\t NumberOfEpisodes = 50\n",
      "\t\t EnvironmentSteps = 4999\n",
      "\t\t AverageReturn = 352.0\n",
      "\t\t AverageEpisodeLength = 96.5999984741211\n"
     ]
    },
    {
     "name": "stdout",
     "output_type": "stream",
     "text": [
      "5000/5000"
     ]
    }
   ],
   "source": [
    "def update_scene(num, frames, patch):\n",
    "    patch.set_data(frames[num])\n",
    "    return patch,\n",
    "\n",
    "def plot_animation(frames, repeat=False, interval=40):\n",
    "    fig = plt.figure()\n",
    "    patch = plt.imshow(frames[0])\n",
    "    plt.axis('off')\n",
    "    anim = animation.FuncAnimation(\n",
    "        fig, update_scene, fargs=(frames, patch),\n",
    "        frames=len(frames), repeat=repeat, interval=interval)\n",
    "    plt.close()\n",
    "    return anim\n",
    "\n",
    "def save_frames(trajectory):\n",
    "    global frames\n",
    "    frames.append(tf_env.pyenv.envs[0].render(mode=\"rgb_array\"))\n",
    "\n",
    "watch_driver = DynamicStepDriver(\n",
    "    tf_env,\n",
    "    saved_policy,\n",
    "    observers=[save_frames, ShowProgress(5000)] + train_metrics,\n",
    "    num_steps=5000)\n",
    "final_time_step, final_policy_state = watch_driver.run()"
   ]
  },
  {
   "cell_type": "code",
   "execution_count": 7,
   "metadata": {},
   "outputs": [
    {
     "name": "stderr",
     "output_type": "stream",
     "text": [
      "INFO:absl: \n",
      "\t\t NumberOfEpisodes = 0\n",
      "\t\t EnvironmentSteps = 99\n",
      "\t\t AverageReturn = 0.0\n",
      "\t\t AverageEpisodeLength = 0.0\n"
     ]
    }
   ],
   "source": [
    "from tf_agents.eval.metric_utils import log_metrics\n",
    "import logging\n",
    "\n",
    "logging.getLogger().setLevel(logging.INFO)\n",
    "log_metrics(train_metrics)"
   ]
  },
  {
   "cell_type": "code",
   "execution_count": 9,
   "metadata": {},
   "outputs": [],
   "source": [
    "import PIL\n",
    "import os\n",
    "\n",
    "frame_images = [PIL.Image.fromarray(frame) for frame in frames[1000:]]\n",
    "image_path = os.path.join(\"pictures\", \"invader_test_400000_1.gif\")\n",
    "frame_images[0].save(image_path,format='GIF',\n",
    "                     append_images=frame_images[1:],\n",
    "                     save_all=True,\n",
    "                     duration=60,\n",
    "                     loop=0)"
   ]
  }
 ],
 "metadata": {
  "interpreter": {
   "hash": "cff0a5753bbe1c482f45929baeb1d46965174c27b3e9cc4c8354a1ffea53b763"
  },
  "kernelspec": {
   "display_name": "Python 3.8.13 ('late-tf-env')",
   "language": "python",
   "name": "python3"
  },
  "language_info": {
   "codemirror_mode": {
    "name": "ipython",
    "version": 3
   },
   "file_extension": ".py",
   "mimetype": "text/x-python",
   "name": "python",
   "nbconvert_exporter": "python",
   "pygments_lexer": "ipython3",
   "version": "3.8.13"
  },
  "orig_nbformat": 4
 },
 "nbformat": 4,
 "nbformat_minor": 2
}
